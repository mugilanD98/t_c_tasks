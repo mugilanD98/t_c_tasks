{
 "cells": [
  {
   "cell_type": "markdown",
   "metadata": {
    "papermill": {
     "duration": 0.019447,
     "end_time": "2021-01-22T08:55:10.373700",
     "exception": false,
     "start_time": "2021-01-22T08:55:10.354253",
     "status": "completed"
    },
    "tags": []
   },
   "source": [
    "**This notebook is an exercise in the [Data Visualization](https://www.kaggle.com/learn/data-visualization) course.  You can reference the tutorial at [this link](https://www.kaggle.com/alexisbcook/final-project).**\n",
    "\n",
    "---\n"
   ]
  },
  {
   "cell_type": "markdown",
   "metadata": {
    "papermill": {
     "duration": 0.01804,
     "end_time": "2021-01-22T08:55:10.411576",
     "exception": false,
     "start_time": "2021-01-22T08:55:10.393536",
     "status": "completed"
    },
    "tags": []
   },
   "source": [
    "Now it's time for you to demonstrate your new skills with a project of your own!\n",
    "\n",
    "In this exercise, you will work with a dataset of your choosing.  Once you've selected a dataset, you'll design and create your own plot to tell interesting stories behind the data!\n",
    "\n",
    "## Setup\n",
    "\n",
    "Run the next cell to import and configure the Python libraries that you need to complete the exercise."
   ]
  },
  {
   "cell_type": "code",
   "execution_count": 1,
   "metadata": {
    "execution": {
     "iopub.execute_input": "2021-01-22T08:55:10.452116Z",
     "iopub.status.busy": "2021-01-22T08:55:10.451097Z",
     "iopub.status.idle": "2021-01-22T08:55:11.663072Z",
     "shell.execute_reply": "2021-01-22T08:55:11.663906Z"
    },
    "papermill": {
     "duration": 1.234284,
     "end_time": "2021-01-22T08:55:11.664157",
     "exception": false,
     "start_time": "2021-01-22T08:55:10.429873",
     "status": "completed"
    },
    "tags": []
   },
   "outputs": [
    {
     "name": "stdout",
     "output_type": "stream",
     "text": [
      "Setup Complete\n"
     ]
    }
   ],
   "source": [
    "import pandas as pd\n",
    "pd.plotting.register_matplotlib_converters()\n",
    "import matplotlib.pyplot as plt\n",
    "%matplotlib inline\n",
    "import seaborn as sns\n",
    "print(\"Setup Complete\")"
   ]
  },
  {
   "cell_type": "markdown",
   "metadata": {
    "papermill": {
     "duration": 0.019287,
     "end_time": "2021-01-22T08:55:11.703699",
     "exception": false,
     "start_time": "2021-01-22T08:55:11.684412",
     "status": "completed"
    },
    "tags": []
   },
   "source": [
    "The questions below will give you feedback on your work. Run the following cell to set up the feedback system."
   ]
  },
  {
   "cell_type": "code",
   "execution_count": 2,
   "metadata": {
    "execution": {
     "iopub.execute_input": "2021-01-22T08:55:11.746470Z",
     "iopub.status.busy": "2021-01-22T08:55:11.745325Z",
     "iopub.status.idle": "2021-01-22T08:55:11.797695Z",
     "shell.execute_reply": "2021-01-22T08:55:11.798248Z"
    },
    "papermill": {
     "duration": 0.075423,
     "end_time": "2021-01-22T08:55:11.798400",
     "exception": false,
     "start_time": "2021-01-22T08:55:11.722977",
     "status": "completed"
    },
    "tags": []
   },
   "outputs": [
    {
     "name": "stdout",
     "output_type": "stream",
     "text": [
      "Setup Complete\n"
     ]
    }
   ],
   "source": [
    "# Set up code checking\n",
    "from learntools.core import binder\n",
    "binder.bind(globals())\n",
    "from learntools.data_viz_to_coder.ex7 import *\n",
    "print(\"Setup Complete\")"
   ]
  },
  {
   "cell_type": "markdown",
   "metadata": {
    "papermill": {
     "duration": 0.019738,
     "end_time": "2021-01-22T08:55:11.843323",
     "exception": false,
     "start_time": "2021-01-22T08:55:11.823585",
     "status": "completed"
    },
    "tags": []
   },
   "source": [
    "## Step 1: Attach a dataset to the notebook\n",
    "\n",
    "Begin by selecting a CSV dataset from [Kaggle Datasets](https://www.kaggle.com/datasets).  If you're unsure how to do this or would like to work with your own data, please revisit the instructions in the previous tutorial.\n",
    "\n",
    "Once you have selected a dataset, click on the **[+ Add Data]** option in the top right corner.  This will generate a pop-up window that you can use to search for your chosen dataset.  \n",
    "\n",
    "![ex6_search_dataset](https://i.imgur.com/cIIWPUS.png)\n",
    "\n",
    "Once you have found the dataset, click on the **[Add]** button to attach it to the notebook.  You can check that it was successful by looking at the **Data** dropdown menu to the right of the notebook -- look for an **input** folder containing a subfolder that matches the name of the dataset.\n",
    "\n",
    "<center>\n",
    "<img src=\"https://i.imgur.com/nMYc1Nu.png\" width=30%><br/>\n",
    "</center>\n",
    "\n",
    "You can click on the carat to the left of the name of the dataset to double-check that it contains a CSV file.  For instance, the image below shows that the example dataset contains two CSV files: (1) **dc-wikia-data.csv**, and (2) **marvel-wikia-data.csv**.\n",
    "\n",
    "<center>\n",
    "<img src=\"https://i.imgur.com/B4sJkVA.png\" width=30%><br/>\n",
    "</center>\n",
    "\n",
    "Once you've uploaded a dataset with a CSV file, run the code cell below **without changes** to receive credit for your work!"
   ]
  },
  {
   "cell_type": "code",
   "execution_count": 3,
   "metadata": {
    "execution": {
     "iopub.execute_input": "2021-01-22T08:55:11.887456Z",
     "iopub.status.busy": "2021-01-22T08:55:11.886417Z",
     "iopub.status.idle": "2021-01-22T08:55:11.910877Z",
     "shell.execute_reply": "2021-01-22T08:55:11.911457Z"
    },
    "papermill": {
     "duration": 0.04874,
     "end_time": "2021-01-22T08:55:11.911608",
     "exception": false,
     "start_time": "2021-01-22T08:55:11.862868",
     "status": "completed"
    },
    "tags": []
   },
   "outputs": [
    {
     "data": {
      "application/javascript": [
       "parent.postMessage({\"jupyterEvent\": \"custom.exercise_interaction\", \"data\": {\"outcomeType\": 1, \"valueTowardsCompletion\": 0.25, \"interactionType\": 1, \"questionType\": 2, \"questionId\": \"1_AttachData\", \"learnToolsVersion\": \"0.3.4\", \"failureMessage\": \"\", \"exceptionClass\": \"\", \"trace\": \"\"}}, \"*\")"
      ],
      "text/plain": [
       "<IPython.core.display.Javascript object>"
      ]
     },
     "metadata": {},
     "output_type": "display_data"
    },
    {
     "data": {
      "text/markdown": [
       "<span style=\"color:#33cc33\">Correct:</span> \n",
       "\n"
      ],
      "text/plain": [
       "Correct: \n"
      ]
     },
     "metadata": {},
     "output_type": "display_data"
    }
   ],
   "source": [
    "# Check for a dataset with a CSV file\n",
    "step_1.check()"
   ]
  },
  {
   "cell_type": "markdown",
   "metadata": {
    "papermill": {
     "duration": 0.021131,
     "end_time": "2021-01-22T08:55:11.953756",
     "exception": false,
     "start_time": "2021-01-22T08:55:11.932625",
     "status": "completed"
    },
    "tags": []
   },
   "source": [
    "## Step 2: Specify the filepath\n",
    "\n",
    "Now that the dataset is attached to the notebook, you can find its filepath.  To do this, begin by clicking on the CSV file you'd like to use.  This will open the CSV file in a tab below the notebook.  You can find the filepath towards the top of this new tab.  \n",
    "\n",
    "![ex6_filepath](https://i.imgur.com/fgXQV47.png)\n",
    "\n",
    "After you find the filepath corresponding to your dataset, fill it in as the value for `my_filepath` in the code cell below, and run the code cell to check that you've provided a valid filepath.  For instance, in the case of this example dataset, we would set\n",
    "```\n",
    "my_filepath = \"../input/fivethirtyeight-comic-characters-dataset/dc-wikia-data.csv\"\n",
    "```  \n",
    "Note that **you must enclose the filepath in quotation marks**; otherwise, the code will return an error.\n",
    "\n",
    "Once you've entered the filepath, you can close the tab below the notebook by clicking on the **[X]** at the top of the tab."
   ]
  },
  {
   "cell_type": "code",
   "execution_count": 4,
   "metadata": {
    "execution": {
     "iopub.execute_input": "2021-01-22T08:55:12.000435Z",
     "iopub.status.busy": "2021-01-22T08:55:11.999412Z",
     "iopub.status.idle": "2021-01-22T08:55:12.019574Z",
     "shell.execute_reply": "2021-01-22T08:55:12.019003Z"
    },
    "papermill": {
     "duration": 0.045035,
     "end_time": "2021-01-22T08:55:12.019696",
     "exception": false,
     "start_time": "2021-01-22T08:55:11.974661",
     "status": "completed"
    },
    "tags": []
   },
   "outputs": [
    {
     "data": {
      "application/javascript": [
       "parent.postMessage({\"jupyterEvent\": \"custom.exercise_interaction\", \"data\": {\"outcomeType\": 1, \"valueTowardsCompletion\": 0.25, \"interactionType\": 1, \"questionType\": 2, \"questionId\": \"2_Filepath\", \"learnToolsVersion\": \"0.3.4\", \"failureMessage\": \"\", \"exceptionClass\": \"\", \"trace\": \"\"}}, \"*\")"
      ],
      "text/plain": [
       "<IPython.core.display.Javascript object>"
      ]
     },
     "metadata": {},
     "output_type": "display_data"
    },
    {
     "data": {
      "text/markdown": [
       "<span style=\"color:#33cc33\">Correct:</span> \n",
       "\n"
      ],
      "text/plain": [
       "Correct: \n"
      ]
     },
     "metadata": {},
     "output_type": "display_data"
    }
   ],
   "source": [
    "# Fill in the line below: Specify the path of the CSV file to read\n",
    "my_filepath = \"../input/avocado-prices-20152019/Avocado.csv\"\n",
    "\n",
    "# Check for a valid filepath to a CSV file in a dataset\n",
    "step_2.check()"
   ]
  },
  {
   "cell_type": "markdown",
   "metadata": {
    "papermill": {
     "duration": 0.021543,
     "end_time": "2021-01-22T08:55:12.063422",
     "exception": false,
     "start_time": "2021-01-22T08:55:12.041879",
     "status": "completed"
    },
    "tags": []
   },
   "source": [
    "## Step 3: Load the data\n",
    "\n",
    "Use the next code cell to load your data file into `my_data`.  Use the filepath that you specified in the previous step."
   ]
  },
  {
   "cell_type": "code",
   "execution_count": 5,
   "metadata": {
    "execution": {
     "iopub.execute_input": "2021-01-22T08:55:12.115680Z",
     "iopub.status.busy": "2021-01-22T08:55:12.114937Z",
     "iopub.status.idle": "2021-01-22T08:55:12.250116Z",
     "shell.execute_reply": "2021-01-22T08:55:12.249583Z"
    },
    "papermill": {
     "duration": 0.164687,
     "end_time": "2021-01-22T08:55:12.250229",
     "exception": false,
     "start_time": "2021-01-22T08:55:12.085542",
     "status": "completed"
    },
    "tags": []
   },
   "outputs": [
    {
     "data": {
      "application/javascript": [
       "parent.postMessage({\"jupyterEvent\": \"custom.exercise_interaction\", \"data\": {\"outcomeType\": 1, \"valueTowardsCompletion\": 0.25, \"interactionType\": 1, \"questionType\": 2, \"questionId\": \"3_LoadData\", \"learnToolsVersion\": \"0.3.4\", \"failureMessage\": \"\", \"exceptionClass\": \"\", \"trace\": \"\"}}, \"*\")"
      ],
      "text/plain": [
       "<IPython.core.display.Javascript object>"
      ]
     },
     "metadata": {},
     "output_type": "display_data"
    },
    {
     "data": {
      "text/markdown": [
       "<span style=\"color:#33cc33\">Correct:</span> \n",
       "\n"
      ],
      "text/plain": [
       "Correct: \n"
      ]
     },
     "metadata": {},
     "output_type": "display_data"
    }
   ],
   "source": [
    "# Fill in the line below: Read the file into a variable my_data\n",
    "my_data = pd.read_csv(my_filepath)\n",
    "\n",
    "# Check that a dataset has been uploaded into my_data\n",
    "step_3.check()"
   ]
  },
  {
   "cell_type": "markdown",
   "metadata": {
    "papermill": {
     "duration": 0.022588,
     "end_time": "2021-01-22T08:55:12.295754",
     "exception": false,
     "start_time": "2021-01-22T08:55:12.273166",
     "status": "completed"
    },
    "tags": []
   },
   "source": [
    "**_After the code cell above is marked correct_**, run the code cell below without changes to view the first five rows of the data."
   ]
  },
  {
   "cell_type": "code",
   "execution_count": 6,
   "metadata": {
    "execution": {
     "iopub.execute_input": "2021-01-22T08:55:12.356322Z",
     "iopub.status.busy": "2021-01-22T08:55:12.350298Z",
     "iopub.status.idle": "2021-01-22T08:55:12.376563Z",
     "shell.execute_reply": "2021-01-22T08:55:12.377033Z"
    },
    "papermill": {
     "duration": 0.058203,
     "end_time": "2021-01-22T08:55:12.377197",
     "exception": false,
     "start_time": "2021-01-22T08:55:12.318994",
     "status": "completed"
    },
    "tags": []
   },
   "outputs": [
    {
     "data": {
      "text/html": [
       "<div>\n",
       "<style scoped>\n",
       "    .dataframe tbody tr th:only-of-type {\n",
       "        vertical-align: middle;\n",
       "    }\n",
       "\n",
       "    .dataframe tbody tr th {\n",
       "        vertical-align: top;\n",
       "    }\n",
       "\n",
       "    .dataframe thead th {\n",
       "        text-align: right;\n",
       "    }\n",
       "</style>\n",
       "<table border=\"1\" class=\"dataframe\">\n",
       "  <thead>\n",
       "    <tr style=\"text-align: right;\">\n",
       "      <th></th>\n",
       "      <th>Date</th>\n",
       "      <th>AveragePrice</th>\n",
       "      <th>Total Volume</th>\n",
       "      <th>4046</th>\n",
       "      <th>4225</th>\n",
       "      <th>4770</th>\n",
       "      <th>Total Bags</th>\n",
       "      <th>Small Bags</th>\n",
       "      <th>Large Bags</th>\n",
       "      <th>XLarge Bags</th>\n",
       "      <th>type</th>\n",
       "      <th>year</th>\n",
       "      <th>region</th>\n",
       "    </tr>\n",
       "  </thead>\n",
       "  <tbody>\n",
       "    <tr>\n",
       "      <th>0</th>\n",
       "      <td>2015-01-04</td>\n",
       "      <td>1.22</td>\n",
       "      <td>40873.28</td>\n",
       "      <td>2819.50</td>\n",
       "      <td>28287.42</td>\n",
       "      <td>49.90</td>\n",
       "      <td>9716.46</td>\n",
       "      <td>9186.93</td>\n",
       "      <td>529.53</td>\n",
       "      <td>0.0</td>\n",
       "      <td>conventional</td>\n",
       "      <td>2015</td>\n",
       "      <td>Albany</td>\n",
       "    </tr>\n",
       "    <tr>\n",
       "      <th>1</th>\n",
       "      <td>2015-01-11</td>\n",
       "      <td>1.24</td>\n",
       "      <td>41195.08</td>\n",
       "      <td>1002.85</td>\n",
       "      <td>31640.34</td>\n",
       "      <td>127.12</td>\n",
       "      <td>8424.77</td>\n",
       "      <td>8036.04</td>\n",
       "      <td>388.73</td>\n",
       "      <td>0.0</td>\n",
       "      <td>conventional</td>\n",
       "      <td>2015</td>\n",
       "      <td>Albany</td>\n",
       "    </tr>\n",
       "    <tr>\n",
       "      <th>2</th>\n",
       "      <td>2015-01-18</td>\n",
       "      <td>1.17</td>\n",
       "      <td>44511.28</td>\n",
       "      <td>914.14</td>\n",
       "      <td>31540.32</td>\n",
       "      <td>135.77</td>\n",
       "      <td>11921.05</td>\n",
       "      <td>11651.09</td>\n",
       "      <td>269.96</td>\n",
       "      <td>0.0</td>\n",
       "      <td>conventional</td>\n",
       "      <td>2015</td>\n",
       "      <td>Albany</td>\n",
       "    </tr>\n",
       "    <tr>\n",
       "      <th>3</th>\n",
       "      <td>2015-01-25</td>\n",
       "      <td>1.06</td>\n",
       "      <td>45147.50</td>\n",
       "      <td>941.38</td>\n",
       "      <td>33196.16</td>\n",
       "      <td>164.14</td>\n",
       "      <td>10845.82</td>\n",
       "      <td>10103.35</td>\n",
       "      <td>742.47</td>\n",
       "      <td>0.0</td>\n",
       "      <td>conventional</td>\n",
       "      <td>2015</td>\n",
       "      <td>Albany</td>\n",
       "    </tr>\n",
       "    <tr>\n",
       "      <th>4</th>\n",
       "      <td>2015-02-01</td>\n",
       "      <td>0.99</td>\n",
       "      <td>70873.60</td>\n",
       "      <td>1353.90</td>\n",
       "      <td>60017.20</td>\n",
       "      <td>179.32</td>\n",
       "      <td>9323.18</td>\n",
       "      <td>9170.82</td>\n",
       "      <td>152.36</td>\n",
       "      <td>0.0</td>\n",
       "      <td>conventional</td>\n",
       "      <td>2015</td>\n",
       "      <td>Albany</td>\n",
       "    </tr>\n",
       "  </tbody>\n",
       "</table>\n",
       "</div>"
      ],
      "text/plain": [
       "         Date  AveragePrice  Total Volume     4046      4225    4770  \\\n",
       "0  2015-01-04          1.22      40873.28  2819.50  28287.42   49.90   \n",
       "1  2015-01-11          1.24      41195.08  1002.85  31640.34  127.12   \n",
       "2  2015-01-18          1.17      44511.28   914.14  31540.32  135.77   \n",
       "3  2015-01-25          1.06      45147.50   941.38  33196.16  164.14   \n",
       "4  2015-02-01          0.99      70873.60  1353.90  60017.20  179.32   \n",
       "\n",
       "   Total Bags  Small Bags  Large Bags  XLarge Bags          type  year  region  \n",
       "0     9716.46     9186.93      529.53          0.0  conventional  2015  Albany  \n",
       "1     8424.77     8036.04      388.73          0.0  conventional  2015  Albany  \n",
       "2    11921.05    11651.09      269.96          0.0  conventional  2015  Albany  \n",
       "3    10845.82    10103.35      742.47          0.0  conventional  2015  Albany  \n",
       "4     9323.18     9170.82      152.36          0.0  conventional  2015  Albany  "
      ]
     },
     "execution_count": 6,
     "metadata": {},
     "output_type": "execute_result"
    }
   ],
   "source": [
    "# Print the first five rows of the data\n",
    "my_data.head()"
   ]
  },
  {
   "cell_type": "markdown",
   "metadata": {
    "papermill": {
     "duration": 0.024106,
     "end_time": "2021-01-22T08:55:12.425150",
     "exception": false,
     "start_time": "2021-01-22T08:55:12.401044",
     "status": "completed"
    },
    "tags": []
   },
   "source": [
    "## Step 4: Visualize the data\n",
    "\n",
    "Use the next code cell to create a figure that tells a story behind your dataset.  You can use any chart type (_line chart, bar chart, heatmap, etc_) of your choosing!"
   ]
  },
  {
   "cell_type": "code",
   "execution_count": 7,
   "metadata": {
    "execution": {
     "iopub.execute_input": "2021-01-22T08:55:12.476400Z",
     "iopub.status.busy": "2021-01-22T08:55:12.475707Z",
     "iopub.status.idle": "2021-01-22T08:55:12.717901Z",
     "shell.execute_reply": "2021-01-22T08:55:12.717302Z"
    },
    "papermill": {
     "duration": 0.268823,
     "end_time": "2021-01-22T08:55:12.718021",
     "exception": false,
     "start_time": "2021-01-22T08:55:12.449198",
     "status": "completed"
    },
    "tags": []
   },
   "outputs": [
    {
     "data": {
      "application/javascript": [
       "parent.postMessage({\"jupyterEvent\": \"custom.exercise_interaction\", \"data\": {\"outcomeType\": 1, \"valueTowardsCompletion\": 0.25, \"interactionType\": 1, \"questionType\": 2, \"questionId\": \"4_CreatePlot\", \"learnToolsVersion\": \"0.3.4\", \"failureMessage\": \"\", \"exceptionClass\": \"\", \"trace\": \"\"}}, \"*\")"
      ],
      "text/plain": [
       "<IPython.core.display.Javascript object>"
      ]
     },
     "metadata": {},
     "output_type": "display_data"
    },
    {
     "data": {
      "text/markdown": [
       "<span style=\"color:#33cc33\">Correct:</span> \n",
       "\n"
      ],
      "text/plain": [
       "Correct: \n"
      ]
     },
     "metadata": {},
     "output_type": "display_data"
    },
    {
     "data": {
      "image/png": "[encoded data removed]",
      "text/plain": [
       "<Figure size 432x288 with 1 Axes>"
      ]
     },
     "metadata": {
      "needs_background": "light"
     },
     "output_type": "display_data"
    }
   ],
   "source": [
    "# Create a plot\n",
    "nn=my_data['AveragePrice'].mean()\n",
    "sns.kdeplot(data=my_data['AveragePrice'],shade=True)\n",
    "plt.axvline(nn,0,1)\n",
    "\n",
    "# Check that a figure appears below\n",
    "step_4.check()"
   ]
  },
  {
   "cell_type": "markdown",
   "metadata": {
    "papermill": {
     "duration": 0.025855,
     "end_time": "2021-01-22T08:55:12.769897",
     "exception": false,
     "start_time": "2021-01-22T08:55:12.744042",
     "status": "completed"
    },
    "tags": []
   },
   "source": [
    "the average price attribute have right skewed distribution"
   ]
  },
  {
   "cell_type": "code",
   "execution_count": 8,
   "metadata": {
    "execution": {
     "iopub.execute_input": "2021-01-22T08:55:12.830821Z",
     "iopub.status.busy": "2021-01-22T08:55:12.829832Z",
     "iopub.status.idle": "2021-01-22T08:55:12.863040Z",
     "shell.execute_reply": "2021-01-22T08:55:12.862347Z"
    },
    "papermill": {
     "duration": 0.067172,
     "end_time": "2021-01-22T08:55:12.863153",
     "exception": false,
     "start_time": "2021-01-22T08:55:12.795981",
     "status": "completed"
    },
    "tags": []
   },
   "outputs": [],
   "source": [
    "import numpy as np\n",
    "my_data['Date']=pd.to_datetime(my_data['Date'],format='%Y-%m-%d')\n",
    "my_data['month_year']=pd.to_datetime(my_data['Date']).dt.to_period('M')\n"
   ]
  },
  {
   "cell_type": "code",
   "execution_count": 9,
   "metadata": {
    "execution": {
     "iopub.execute_input": "2021-01-22T08:55:12.923078Z",
     "iopub.status.busy": "2021-01-22T08:55:12.922399Z",
     "iopub.status.idle": "2021-01-22T08:55:13.068904Z",
     "shell.execute_reply": "2021-01-22T08:55:13.069499Z"
    },
    "papermill": {
     "duration": 0.180584,
     "end_time": "2021-01-22T08:55:13.069651",
     "exception": false,
     "start_time": "2021-01-22T08:55:12.889067",
     "status": "completed"
    },
    "tags": []
   },
   "outputs": [
    {
     "data": {
      "text/plain": [
       "<Figure size 576x432 with 0 Axes>"
      ]
     },
     "execution_count": 9,
     "metadata": {},
     "output_type": "execute_result"
    },
    {
     "data": {
      "image/png": "[encoded data removed]",
      "text/plain": [
       "<Figure size 432x288 with 1 Axes>"
      ]
     },
     "metadata": {
      "needs_background": "light"
     },
     "output_type": "display_data"
    },
    {
     "data": {
      "text/plain": [
       "<Figure size 576x432 with 0 Axes>"
      ]
     },
     "metadata": {},
     "output_type": "display_data"
    }
   ],
   "source": [
    "dee12=my_data.groupby(by=['year'],as_index=False).agg({'Total Volume':sum})\n",
    "sns.barplot(x=dee12['year'],y=dee12['Total Volume'])\n",
    "plt.figure(figsize=(8,6))\n"
   ]
  },
  {
   "cell_type": "markdown",
   "metadata": {
    "papermill": {
     "duration": 0.027806,
     "end_time": "2021-01-22T08:55:13.125224",
     "exception": false,
     "start_time": "2021-01-22T08:55:13.097418",
     "status": "completed"
    },
    "tags": []
   },
   "source": [
    "More number of avocados are sold in year 2018.\n",
    "minimum number of avacados are sold in year 2015"
   ]
  },
  {
   "cell_type": "code",
   "execution_count": 10,
   "metadata": {
    "execution": {
     "iopub.execute_input": "2021-01-22T08:55:13.195044Z",
     "iopub.status.busy": "2021-01-22T08:55:13.193952Z",
     "iopub.status.idle": "2021-01-22T08:55:13.198649Z",
     "shell.execute_reply": "2021-01-22T08:55:13.198061Z"
    },
    "papermill": {
     "duration": 0.046084,
     "end_time": "2021-01-22T08:55:13.198760",
     "exception": false,
     "start_time": "2021-01-22T08:55:13.152676",
     "status": "completed"
    },
    "tags": []
   },
   "outputs": [
    {
     "data": {
      "text/plain": [
       "conventional    13662\n",
       "organic         13661\n",
       "Name: type, dtype: int64"
      ]
     },
     "execution_count": 10,
     "metadata": {},
     "output_type": "execute_result"
    }
   ],
   "source": [
    "my_data['type'].value_counts()"
   ]
  },
  {
   "cell_type": "code",
   "execution_count": 11,
   "metadata": {
    "execution": {
     "iopub.execute_input": "2021-01-22T08:55:13.272628Z",
     "iopub.status.busy": "2021-01-22T08:55:13.271764Z",
     "iopub.status.idle": "2021-01-22T08:55:13.614573Z",
     "shell.execute_reply": "2021-01-22T08:55:13.613911Z"
    },
    "papermill": {
     "duration": 0.387497,
     "end_time": "2021-01-22T08:55:13.614755",
     "exception": false,
     "start_time": "2021-01-22T08:55:13.227258",
     "status": "completed"
    },
    "tags": []
   },
   "outputs": [
    {
     "data": {
      "text/plain": [
       "<matplotlib.axes._subplots.AxesSubplot at 0x7f2295f9b9d0>"
      ]
     },
     "execution_count": 11,
     "metadata": {},
     "output_type": "execute_result"
    },
    {
     "data": {
      "image/png": "[encoded data removed]",
      "text/plain": [
       "<Figure size 432x288 with 1 Axes>"
      ]
     },
     "metadata": {
      "needs_background": "light"
     },
     "output_type": "display_data"
    }
   ],
   "source": [
    "new1=my_data[my_data['year']==2015]\n",
    "sns.lineplot(x=new1['Date'],y=new1['AveragePrice'],hue=new1['type'],ci=None)"
   ]
  },
  {
   "cell_type": "markdown",
   "metadata": {
    "papermill": {
     "duration": 0.02974,
     "end_time": "2021-01-22T08:55:13.674866",
     "exception": false,
     "start_time": "2021-01-22T08:55:13.645126",
     "status": "completed"
    },
    "tags": []
   },
   "source": [
    "1) the price of organic avocados have higher price then conventional avocados in year 2015.\n",
    "2) price of an organic avocados get peaked at month between september and october.at same time price of conventional avocados get down. \n",
    "3) at end of year 2015 price of both avocados decreases.\n"
   ]
  },
  {
   "cell_type": "code",
   "execution_count": 12,
   "metadata": {
    "execution": {
     "iopub.execute_input": "2021-01-22T08:55:13.741901Z",
     "iopub.status.busy": "2021-01-22T08:55:13.741171Z",
     "iopub.status.idle": "2021-01-22T08:55:13.973648Z",
     "shell.execute_reply": "2021-01-22T08:55:13.974160Z"
    },
    "papermill": {
     "duration": 0.269478,
     "end_time": "2021-01-22T08:55:13.974314",
     "exception": false,
     "start_time": "2021-01-22T08:55:13.704836",
     "status": "completed"
    },
    "tags": []
   },
   "outputs": [
    {
     "data": {
      "text/plain": [
       "(0.0, 2.5)"
      ]
     },
     "execution_count": 12,
     "metadata": {},
     "output_type": "execute_result"
    },
    {
     "data": {
      "image/png": "[encoded data removed]",
      "text/plain": [
       "<Figure size 432x288 with 1 Axes>"
      ]
     },
     "metadata": {
      "needs_background": "light"
     },
     "output_type": "display_data"
    }
   ],
   "source": [
    "new2=my_data[my_data['year']==2016]\n",
    "sns.lineplot(x=new2['Date'],y=new2['AveragePrice'],hue=new2['type'],ci=None)\n",
    "plt.ylim(0,2.5)"
   ]
  },
  {
   "cell_type": "markdown",
   "metadata": {
    "papermill": {
     "duration": 0.030719,
     "end_time": "2021-01-22T08:55:14.036356",
     "exception": false,
     "start_time": "2021-01-22T08:55:14.005637",
     "status": "completed"
    },
    "tags": []
   },
   "source": [
    "1) the price of organic avocados have higher price then conventional avocados in year 2016.\n",
    "2) price of both avocados get peahed at month november.\n",
    "3) at end of year 2016 price of both avocados get peaked (prices of an avocados increases) at month of november."
   ]
  },
  {
   "cell_type": "code",
   "execution_count": 13,
   "metadata": {
    "execution": {
     "iopub.execute_input": "2021-01-22T08:55:14.108703Z",
     "iopub.status.busy": "2021-01-22T08:55:14.106018Z",
     "iopub.status.idle": "2021-01-22T08:55:14.341830Z",
     "shell.execute_reply": "2021-01-22T08:55:14.341200Z"
    },
    "papermill": {
     "duration": 0.274465,
     "end_time": "2021-01-22T08:55:14.341943",
     "exception": false,
     "start_time": "2021-01-22T08:55:14.067478",
     "status": "completed"
    },
    "tags": []
   },
   "outputs": [
    {
     "data": {
      "text/plain": [
       "(0.0, 3.0)"
      ]
     },
     "execution_count": 13,
     "metadata": {},
     "output_type": "execute_result"
    },
    {
     "data": {
      "image/png": "[encoded data removed]",
      "text/plain": [
       "<Figure size 432x288 with 1 Axes>"
      ]
     },
     "metadata": {
      "needs_background": "light"
     },
     "output_type": "display_data"
    }
   ],
   "source": [
    "new3=my_data[my_data['year']==2017]\n",
    "sns.lineplot(x=new3['Date'],y=new3['AveragePrice'],hue=new3['type'],ci=None)\n",
    "plt.ylim(0,3)\n"
   ]
  },
  {
   "cell_type": "markdown",
   "metadata": {
    "papermill": {
     "duration": 0.033501,
     "end_time": "2021-01-22T08:55:14.408063",
     "exception": false,
     "start_time": "2021-01-22T08:55:14.374562",
     "status": "completed"
    },
    "tags": []
   },
   "source": [
    "1) the price of organic avocados have higher price then conventional avocados in year 2017.\n",
    "2) In year 2017 price of avocados get peaked month between october and november."
   ]
  },
  {
   "cell_type": "code",
   "execution_count": 14,
   "metadata": {
    "execution": {
     "iopub.execute_input": "2021-01-22T08:55:14.481176Z",
     "iopub.status.busy": "2021-01-22T08:55:14.480120Z",
     "iopub.status.idle": "2021-01-22T08:55:14.719337Z",
     "shell.execute_reply": "2021-01-22T08:55:14.718699Z"
    },
    "papermill": {
     "duration": 0.278819,
     "end_time": "2021-01-22T08:55:14.719467",
     "exception": false,
     "start_time": "2021-01-22T08:55:14.440648",
     "status": "completed"
    },
    "tags": []
   },
   "outputs": [
    {
     "data": {
      "text/plain": [
       "(0.0, 2.0)"
      ]
     },
     "execution_count": 14,
     "metadata": {},
     "output_type": "execute_result"
    },
    {
     "data": {
      "image/png": "[encoded data removed]",
      "text/plain": [
       "<Figure size 432x288 with 1 Axes>"
      ]
     },
     "metadata": {
      "needs_background": "light"
     },
     "output_type": "display_data"
    }
   ],
   "source": [
    "new4=my_data[my_data['year']==2018]\n",
    "sns.lineplot(x=new4['Date'],y=new4['AveragePrice'],hue=new4['type'],ci=None)\n",
    "plt.ylim(0,2)"
   ]
  },
  {
   "cell_type": "markdown",
   "metadata": {
    "papermill": {
     "duration": 0.033564,
     "end_time": "2021-01-22T08:55:14.787099",
     "exception": false,
     "start_time": "2021-01-22T08:55:14.753535",
     "status": "completed"
    },
    "tags": []
   },
   "source": [
    "1) the price of organic avocados have higher price then conventional avocados in year 2018.\n",
    "2) In year 2018 price of avocados get peaked month between october and november.\n"
   ]
  },
  {
   "cell_type": "code",
   "execution_count": 15,
   "metadata": {
    "execution": {
     "iopub.execute_input": "2021-01-22T08:55:14.865150Z",
     "iopub.status.busy": "2021-01-22T08:55:14.864073Z",
     "iopub.status.idle": "2021-01-22T08:55:14.873586Z",
     "shell.execute_reply": "2021-01-22T08:55:14.872996Z"
    },
    "papermill": {
     "duration": 0.052559,
     "end_time": "2021-01-22T08:55:14.873707",
     "exception": false,
     "start_time": "2021-01-22T08:55:14.821148",
     "status": "completed"
    },
    "tags": []
   },
   "outputs": [
    {
     "data": {
      "text/plain": [
       "7671575748.369998"
      ]
     },
     "execution_count": 15,
     "metadata": {},
     "output_type": "execute_result"
    }
   ],
   "source": [
    "tot=my_data.groupby(by=['region'],as_index=False).agg({'Total Volume':sum})\n",
    "tot['Total Volume'].max()"
   ]
  },
  {
   "cell_type": "code",
   "execution_count": 16,
   "metadata": {
    "execution": {
     "iopub.execute_input": "2021-01-22T08:55:14.997969Z",
     "iopub.status.busy": "2021-01-22T08:55:14.995923Z",
     "iopub.status.idle": "2021-01-22T08:55:16.102772Z",
     "shell.execute_reply": "2021-01-22T08:55:16.103401Z"
    },
    "papermill": {
     "duration": 1.195507,
     "end_time": "2021-01-22T08:55:16.103617",
     "exception": false,
     "start_time": "2021-01-22T08:55:14.908110",
     "status": "completed"
    },
    "tags": []
   },
   "outputs": [
    {
     "data": {
      "text/plain": [
       "<matplotlib.axes._subplots.AxesSubplot at 0x7f2293c28910>"
      ]
     },
     "execution_count": 16,
     "metadata": {},
     "output_type": "execute_result"
    },
    {
     "data": {
      "image/png": "[encoded data removed]",
      "text/plain": [
       "<Figure size 1080x1080 with 1 Axes>"
      ]
     },
     "metadata": {
      "needs_background": "light"
     },
     "output_type": "display_data"
    }
   ],
   "source": [
    "plt.figure(figsize=(15,15))\n",
    "sns.barplot(x=tot['Total Volume'],y=tot['region'])"
   ]
  },
  {
   "cell_type": "markdown",
   "metadata": {
    "papermill": {
     "duration": 0.036745,
     "end_time": "2021-01-22T08:55:16.178739",
     "exception": false,
     "start_time": "2021-01-22T08:55:16.141994",
     "status": "completed"
    },
    "tags": []
   },
   "source": [
    "Maximum avocados are sold at Total U.S region."
   ]
  },
  {
   "cell_type": "markdown",
   "metadata": {
    "papermill": {
     "duration": 0.038399,
     "end_time": "2021-01-22T08:55:16.254280",
     "exception": false,
     "start_time": "2021-01-22T08:55:16.215881",
     "status": "completed"
    },
    "tags": []
   },
   "source": [
    "## Keep going\n",
    "\n",
    "Learn how to use your skills after completing the micro-course to create data visualizations in a **[final tutorial](https://www.kaggle.com/alexisbcook/creating-your-own-notebooks)**."
   ]
  },
  {
   "cell_type": "markdown",
   "metadata": {
    "papermill": {
     "duration": 0.037437,
     "end_time": "2021-01-22T08:55:16.329849",
     "exception": false,
     "start_time": "2021-01-22T08:55:16.292412",
     "status": "completed"
    },
    "tags": []
   },
   "source": [
    "---\n",
    "\n",
    "\n",
    "\n",
    "\n",
    "*Have questions or comments? Visit the [Learn Discussion forum](https://www.kaggle.com/learn-forum/161291) to chat with other Learners.*"
   ]
  }
 ],
 "metadata": {
  "kernelspec": {
   "display_name": "Python 3",
   "language": "python",
   "name": "python3"
  },
  "language_info": {
   "codemirror_mode": {
    "name": "ipython",
    "version": 3
   },
   "file_extension": ".py",
   "mimetype": "text/x-python",
   "name": "python",
   "nbconvert_exporter": "python",
   "pygments_lexer": "ipython3",
   "version": "3.7.6"
  },
  "papermill": {
   "duration": 11.28031,
   "end_time": "2021-01-22T08:55:16.475354",
   "environment_variables": {},
   "exception": null,
   "input_path": "__notebook__.ipynb",
   "output_path": "__notebook__.ipynb",
   "parameters": {},
   "start_time": "2021-01-22T08:55:05.195044",
   "version": "2.1.0"
  }
 },
 "nbformat": 4,
 "nbformat_minor": 4
}
