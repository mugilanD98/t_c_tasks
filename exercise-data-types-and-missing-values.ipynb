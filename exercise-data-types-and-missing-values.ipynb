{
 "cells": [
  {
   "cell_type": "markdown",
   "metadata": {
    "papermill": {
     "duration": 0.010186,
     "end_time": "2021-02-01T03:16:37.277896",
     "exception": false,
     "start_time": "2021-02-01T03:16:37.267710",
     "status": "completed"
    },
    "tags": []
   },
   "source": [
    "**This notebook is an exercise in the [Pandas](https://www.kaggle.com/learn/pandas) course.  You can reference the tutorial at [this link](https://www.kaggle.com/residentmario/data-types-and-missing-values).**\n",
    "\n",
    "---\n"
   ]
  },
  {
   "cell_type": "markdown",
   "metadata": {
    "papermill": {
     "duration": 0.008913,
     "end_time": "2021-02-01T03:16:37.296044",
     "exception": false,
     "start_time": "2021-02-01T03:16:37.287131",
     "status": "completed"
    },
    "tags": []
   },
   "source": [
    "# Introduction\n",
    "\n",
    "Run the following cell to load your data and some utility functions."
   ]
  },
  {
   "cell_type": "code",
   "execution_count": 1,
   "metadata": {
    "execution": {
     "iopub.execute_input": "2021-02-01T03:16:37.317613Z",
     "iopub.status.busy": "2021-02-01T03:16:37.316988Z",
     "iopub.status.idle": "2021-02-01T03:16:40.299094Z",
     "shell.execute_reply": "2021-02-01T03:16:40.299661Z"
    },
    "papermill": {
     "duration": 2.994774,
     "end_time": "2021-02-01T03:16:40.299983",
     "exception": false,
     "start_time": "2021-02-01T03:16:37.305209",
     "status": "completed"
    },
    "tags": []
   },
   "outputs": [
    {
     "name": "stdout",
     "output_type": "stream",
     "text": [
      "Setup complete.\n"
     ]
    }
   ],
   "source": [
    "import pandas as pd\n",
    "\n",
    "reviews = pd.read_csv(\"../input/wine-reviews/winemag-data-130k-v2.csv\", index_col=0)\n",
    "\n",
    "from learntools.core import binder; binder.bind(globals())\n",
    "from learntools.pandas.data_types_and_missing_data import *\n",
    "print(\"Setup complete.\")"
   ]
  },
  {
   "cell_type": "markdown",
   "metadata": {
    "papermill": {
     "duration": 0.009607,
     "end_time": "2021-02-01T03:16:40.320075",
     "exception": false,
     "start_time": "2021-02-01T03:16:40.310468",
     "status": "completed"
    },
    "tags": []
   },
   "source": [
    "# Exercises"
   ]
  },
  {
   "cell_type": "markdown",
   "metadata": {
    "papermill": {
     "duration": 0.009269,
     "end_time": "2021-02-01T03:16:40.338668",
     "exception": false,
     "start_time": "2021-02-01T03:16:40.329399",
     "status": "completed"
    },
    "tags": []
   },
   "source": [
    "## 1. \n",
    "What is the data type of the `points` column in the dataset?"
   ]
  },
  {
   "cell_type": "code",
   "execution_count": 2,
   "metadata": {
    "execution": {
     "iopub.execute_input": "2021-02-01T03:16:40.360169Z",
     "iopub.status.busy": "2021-02-01T03:16:40.359517Z",
     "iopub.status.idle": "2021-02-01T03:16:40.368995Z",
     "shell.execute_reply": "2021-02-01T03:16:40.368538Z"
    },
    "papermill": {
     "duration": 0.02101,
     "end_time": "2021-02-01T03:16:40.369141",
     "exception": false,
     "start_time": "2021-02-01T03:16:40.348131",
     "status": "completed"
    },
    "tags": []
   },
   "outputs": [
    {
     "data": {
      "application/javascript": [
       "parent.postMessage({\"jupyterEvent\": \"custom.exercise_interaction\", \"data\": {\"outcomeType\": 1, \"valueTowardsCompletion\": 0.25, \"interactionType\": 1, \"questionType\": 1, \"questionId\": \"1_PointsDtype\", \"learnToolsVersion\": \"0.3.4\", \"failureMessage\": \"\", \"exceptionClass\": \"\", \"trace\": \"\"}}, \"*\")"
      ],
      "text/plain": [
       "<IPython.core.display.Javascript object>"
      ]
     },
     "metadata": {},
     "output_type": "display_data"
    },
    {
     "data": {
      "text/markdown": [
       "<span style=\"color:#33cc33\">Correct</span>"
      ],
      "text/plain": [
       "Correct"
      ]
     },
     "metadata": {},
     "output_type": "display_data"
    }
   ],
   "source": [
    "# Your code here\n",
    "dtype = reviews['points'].dtype\n",
    "\n",
    "# Check your answer\n",
    "q1.check()"
   ]
  },
  {
   "cell_type": "code",
   "execution_count": 3,
   "metadata": {
    "execution": {
     "iopub.execute_input": "2021-02-01T03:16:40.394064Z",
     "iopub.status.busy": "2021-02-01T03:16:40.393196Z",
     "iopub.status.idle": "2021-02-01T03:16:40.396200Z",
     "shell.execute_reply": "2021-02-01T03:16:40.395725Z"
    },
    "papermill": {
     "duration": 0.016398,
     "end_time": "2021-02-01T03:16:40.396323",
     "exception": false,
     "start_time": "2021-02-01T03:16:40.379925",
     "status": "completed"
    },
    "tags": []
   },
   "outputs": [],
   "source": [
    "#q1.hint()\n",
    "#q1.solution()"
   ]
  },
  {
   "cell_type": "markdown",
   "metadata": {
    "papermill": {
     "duration": 0.010559,
     "end_time": "2021-02-01T03:16:40.417848",
     "exception": false,
     "start_time": "2021-02-01T03:16:40.407289",
     "status": "completed"
    },
    "tags": []
   },
   "source": [
    "## 2. \n",
    "Create a Series from entries in the `points` column, but convert the entries to strings. Hint: strings are `str` in native Python."
   ]
  },
  {
   "cell_type": "code",
   "execution_count": 4,
   "metadata": {
    "execution": {
     "iopub.execute_input": "2021-02-01T03:16:40.442997Z",
     "iopub.status.busy": "2021-02-01T03:16:40.442396Z",
     "iopub.status.idle": "2021-02-01T03:16:40.604701Z",
     "shell.execute_reply": "2021-02-01T03:16:40.604231Z"
    },
    "papermill": {
     "duration": 0.176426,
     "end_time": "2021-02-01T03:16:40.604826",
     "exception": false,
     "start_time": "2021-02-01T03:16:40.428400",
     "status": "completed"
    },
    "tags": []
   },
   "outputs": [
    {
     "data": {
      "application/javascript": [
       "parent.postMessage({\"jupyterEvent\": \"custom.exercise_interaction\", \"data\": {\"outcomeType\": 1, \"valueTowardsCompletion\": 0.25, \"interactionType\": 1, \"questionType\": 1, \"questionId\": \"2_StrPoints\", \"learnToolsVersion\": \"0.3.4\", \"failureMessage\": \"\", \"exceptionClass\": \"\", \"trace\": \"\"}}, \"*\")"
      ],
      "text/plain": [
       "<IPython.core.display.Javascript object>"
      ]
     },
     "metadata": {},
     "output_type": "display_data"
    },
    {
     "data": {
      "text/markdown": [
       "<span style=\"color:#33cc33\">Correct</span>"
      ],
      "text/plain": [
       "Correct"
      ]
     },
     "metadata": {},
     "output_type": "display_data"
    }
   ],
   "source": [
    "point_strings = reviews['points'].astype('str')\n",
    "\n",
    "# Check your answer\n",
    "q2.check()"
   ]
  },
  {
   "cell_type": "code",
   "execution_count": 5,
   "metadata": {
    "execution": {
     "iopub.execute_input": "2021-02-01T03:16:40.631407Z",
     "iopub.status.busy": "2021-02-01T03:16:40.630801Z",
     "iopub.status.idle": "2021-02-01T03:16:40.634088Z",
     "shell.execute_reply": "2021-02-01T03:16:40.633483Z"
    },
    "papermill": {
     "duration": 0.01776,
     "end_time": "2021-02-01T03:16:40.634213",
     "exception": false,
     "start_time": "2021-02-01T03:16:40.616453",
     "status": "completed"
    },
    "tags": []
   },
   "outputs": [],
   "source": [
    "#q2.hint()\n",
    "#q2.solution()"
   ]
  },
  {
   "cell_type": "markdown",
   "metadata": {
    "papermill": {
     "duration": 0.01116,
     "end_time": "2021-02-01T03:16:40.656977",
     "exception": false,
     "start_time": "2021-02-01T03:16:40.645817",
     "status": "completed"
    },
    "tags": []
   },
   "source": [
    "## 3.\n",
    "Sometimes the price column is null. How many reviews in the dataset are missing a price?"
   ]
  },
  {
   "cell_type": "code",
   "execution_count": 6,
   "metadata": {
    "execution": {
     "iopub.execute_input": "2021-02-01T03:16:40.686429Z",
     "iopub.status.busy": "2021-02-01T03:16:40.685702Z",
     "iopub.status.idle": "2021-02-01T03:16:40.691526Z",
     "shell.execute_reply": "2021-02-01T03:16:40.690932Z"
    },
    "papermill": {
     "duration": 0.021423,
     "end_time": "2021-02-01T03:16:40.691656",
     "exception": false,
     "start_time": "2021-02-01T03:16:40.670233",
     "status": "completed"
    },
    "tags": []
   },
   "outputs": [
    {
     "data": {
      "application/javascript": [
       "parent.postMessage({\"jupyterEvent\": \"custom.exercise_interaction\", \"data\": {\"outcomeType\": 1, \"valueTowardsCompletion\": 0.25, \"interactionType\": 1, \"questionType\": 1, \"questionId\": \"3_CountMissingPrices\", \"learnToolsVersion\": \"0.3.4\", \"failureMessage\": \"\", \"exceptionClass\": \"\", \"trace\": \"\"}}, \"*\")"
      ],
      "text/plain": [
       "<IPython.core.display.Javascript object>"
      ]
     },
     "metadata": {},
     "output_type": "display_data"
    },
    {
     "data": {
      "text/markdown": [
       "<span style=\"color:#33cc33\">Correct</span>"
      ],
      "text/plain": [
       "Correct"
      ]
     },
     "metadata": {},
     "output_type": "display_data"
    }
   ],
   "source": [
    "n_missing_prices = reviews['price'].isnull().sum()\n",
    "\n",
    "# Check your answer\n",
    "q3.check()"
   ]
  },
  {
   "cell_type": "code",
   "execution_count": 7,
   "metadata": {
    "execution": {
     "iopub.execute_input": "2021-02-01T03:16:40.720300Z",
     "iopub.status.busy": "2021-02-01T03:16:40.719737Z",
     "iopub.status.idle": "2021-02-01T03:16:40.721839Z",
     "shell.execute_reply": "2021-02-01T03:16:40.722426Z"
    },
    "papermill": {
     "duration": 0.018171,
     "end_time": "2021-02-01T03:16:40.722567",
     "exception": false,
     "start_time": "2021-02-01T03:16:40.704396",
     "status": "completed"
    },
    "tags": []
   },
   "outputs": [],
   "source": [
    "#q3.hint()\n",
    "#q3.solution()"
   ]
  },
  {
   "cell_type": "markdown",
   "metadata": {
    "papermill": {
     "duration": 0.012575,
     "end_time": "2021-02-01T03:16:40.748391",
     "exception": false,
     "start_time": "2021-02-01T03:16:40.735816",
     "status": "completed"
    },
    "tags": []
   },
   "source": [
    "## 4.\n",
    "What are the most common wine-producing regions? Create a Series counting the number of times each value occurs in the `region_1` field. This field is often missing data, so replace missing values with `Unknown`. Sort in descending order.  Your output should look something like this:\n",
    "\n",
    "```\n",
    "Unknown                    21247\n",
    "Napa Valley                 4480\n",
    "                           ...  \n",
    "Bardolino Superiore            1\n",
    "Primitivo del Tarantino        1\n",
    "Name: region_1, Length: 1230, dtype: int64\n",
    "```"
   ]
  },
  {
   "cell_type": "code",
   "execution_count": 8,
   "metadata": {
    "execution": {
     "iopub.execute_input": "2021-02-01T03:16:40.778377Z",
     "iopub.status.busy": "2021-02-01T03:16:40.777811Z",
     "iopub.status.idle": "2021-02-01T03:16:40.875840Z",
     "shell.execute_reply": "2021-02-01T03:16:40.875338Z"
    },
    "papermill": {
     "duration": 0.114639,
     "end_time": "2021-02-01T03:16:40.875978",
     "exception": false,
     "start_time": "2021-02-01T03:16:40.761339",
     "status": "completed"
    },
    "tags": []
   },
   "outputs": [
    {
     "data": {
      "application/javascript": [
       "parent.postMessage({\"jupyterEvent\": \"custom.exercise_interaction\", \"data\": {\"outcomeType\": 1, \"valueTowardsCompletion\": 0.25, \"interactionType\": 1, \"questionType\": 2, \"questionId\": \"4_ReviewsPerRegion\", \"learnToolsVersion\": \"0.3.4\", \"failureMessage\": \"\", \"exceptionClass\": \"\", \"trace\": \"\"}}, \"*\")"
      ],
      "text/plain": [
       "<IPython.core.display.Javascript object>"
      ]
     },
     "metadata": {},
     "output_type": "display_data"
    },
    {
     "data": {
      "text/markdown": [
       "<span style=\"color:#33cc33\">Correct</span>"
      ],
      "text/plain": [
       "Correct"
      ]
     },
     "metadata": {},
     "output_type": "display_data"
    }
   ],
   "source": [
    "reviews_per_region = reviews.region_1.fillna('Unknown').value_counts().sort_values(ascending=False)\n",
    "\n",
    "# Check your answer\n",
    "q4.check()"
   ]
  },
  {
   "cell_type": "code",
   "execution_count": 9,
   "metadata": {
    "execution": {
     "iopub.execute_input": "2021-02-01T03:16:40.909707Z",
     "iopub.status.busy": "2021-02-01T03:16:40.909145Z",
     "iopub.status.idle": "2021-02-01T03:16:40.911844Z",
     "shell.execute_reply": "2021-02-01T03:16:40.911410Z"
    },
    "papermill": {
     "duration": 0.020968,
     "end_time": "2021-02-01T03:16:40.911971",
     "exception": false,
     "start_time": "2021-02-01T03:16:40.891003",
     "status": "completed"
    },
    "tags": []
   },
   "outputs": [],
   "source": [
    "#q4.hint()\n",
    "#q4.solution()"
   ]
  },
  {
   "cell_type": "markdown",
   "metadata": {
    "papermill": {
     "duration": 0.013951,
     "end_time": "2021-02-01T03:16:40.940249",
     "exception": false,
     "start_time": "2021-02-01T03:16:40.926298",
     "status": "completed"
    },
    "tags": []
   },
   "source": [
    "# Keep going\n",
    "\n",
    "Move on to **[renaming and combining](https://www.kaggle.com/residentmario/renaming-and-combining)**."
   ]
  },
  {
   "cell_type": "markdown",
   "metadata": {
    "papermill": {
     "duration": 0.013498,
     "end_time": "2021-02-01T03:16:40.967913",
     "exception": false,
     "start_time": "2021-02-01T03:16:40.954415",
     "status": "completed"
    },
    "tags": []
   },
   "source": [
    "---\n",
    "\n",
    "\n",
    "\n",
    "\n",
    "*Have questions or comments? Visit the [Learn Discussion forum](https://www.kaggle.com/learn-forum/161299) to chat with other Learners.*"
   ]
  }
 ],
 "metadata": {
  "kernelspec": {
   "display_name": "Python 3",
   "language": "python",
   "name": "python3"
  },
  "language_info": {
   "codemirror_mode": {
    "name": "ipython",
    "version": 3
   },
   "file_extension": ".py",
   "mimetype": "text/x-python",
   "name": "python",
   "nbconvert_exporter": "python",
   "pygments_lexer": "ipython3",
   "version": "3.7.9"
  },
  "papermill": {
   "default_parameters": {},
   "duration": 9.457471,
   "end_time": "2021-02-01T03:16:41.489424",
   "environment_variables": {},
   "exception": null,
   "input_path": "__notebook__.ipynb",
   "output_path": "__notebook__.ipynb",
   "parameters": {},
   "start_time": "2021-02-01T03:16:32.031953",
   "version": "2.2.2"
  }
 },
 "nbformat": 4,
 "nbformat_minor": 4
}
