{
 "cells": [
  {
   "cell_type": "markdown",
   "metadata": {
    "papermill": {
     "duration": 0.016683,
     "end_time": "2021-01-31T06:10:57.829970",
     "exception": false,
     "start_time": "2021-01-31T06:10:57.813287",
     "status": "completed"
    },
    "tags": []
   },
   "source": [
    "**This notebook is an exercise in the [Data Visualization](https://www.kaggle.com/learn/data-visualization) course.  You can reference the tutorial at [this link](https://www.kaggle.com/alexisbcook/bar-charts-and-heatmaps).**\n",
    "\n",
    "---\n"
   ]
  },
  {
   "cell_type": "markdown",
   "metadata": {
    "papermill": {
     "duration": 0.014169,
     "end_time": "2021-01-31T06:10:57.858907",
     "exception": false,
     "start_time": "2021-01-31T06:10:57.844738",
     "status": "completed"
    },
    "tags": []
   },
   "source": [
    "In this exercise, you will use your new knowledge to propose a solution to a real-world scenario.  To succeed, you will need to import data into Python, answer questions using the data, and generate **bar charts** and **heatmaps** to understand patterns in the data.\n",
    "\n",
    "## Scenario\n",
    "\n",
    "You've recently decided to create your very own video game!  As an avid reader of [IGN Game Reviews](https://www.ign.com/reviews/games), you hear about all of the most recent game releases, along with the ranking they've received from experts, ranging from 0 (_Disaster_) to 10 (_Masterpiece_).\n",
    "\n",
    "![ex2_ign](https://i.imgur.com/Oh06Fu1.png)\n",
    "\n",
    "You're interested in using [IGN reviews](https://www.ign.com/reviews/games) to guide the design of your upcoming game.  Thankfully, someone has summarized the rankings in a really useful CSV file that you can use to guide your analysis.\n",
    "\n",
    "## Setup\n",
    "\n",
    "Run the next cell to import and configure the Python libraries that you need to complete the exercise."
   ]
  },
  {
   "cell_type": "code",
   "execution_count": 1,
   "metadata": {
    "execution": {
     "iopub.execute_input": "2021-01-31T06:10:57.896582Z",
     "iopub.status.busy": "2021-01-31T06:10:57.895808Z",
     "iopub.status.idle": "2021-01-31T06:10:59.011950Z",
     "shell.execute_reply": "2021-01-31T06:10:59.011235Z"
    },
    "papermill": {
     "duration": 1.138682,
     "end_time": "2021-01-31T06:10:59.012179",
     "exception": false,
     "start_time": "2021-01-31T06:10:57.873497",
     "status": "completed"
    },
    "tags": []
   },
   "outputs": [
    {
     "name": "stdout",
     "output_type": "stream",
     "text": [
      "Setup Complete\n"
     ]
    }
   ],
   "source": [
    "import pandas as pd\n",
    "pd.plotting.register_matplotlib_converters()\n",
    "import matplotlib.pyplot as plt\n",
    "%matplotlib inline\n",
    "import seaborn as sns\n",
    "print(\"Setup Complete\")"
   ]
  },
  {
   "cell_type": "markdown",
   "metadata": {
    "papermill": {
     "duration": 0.01458,
     "end_time": "2021-01-31T06:10:59.043225",
     "exception": false,
     "start_time": "2021-01-31T06:10:59.028645",
     "status": "completed"
    },
    "tags": []
   },
   "source": [
    "The questions below will give you feedback on your work. Run the following cell to set up our feedback system."
   ]
  },
  {
   "cell_type": "code",
   "execution_count": 2,
   "metadata": {
    "execution": {
     "iopub.execute_input": "2021-01-31T06:10:59.077870Z",
     "iopub.status.busy": "2021-01-31T06:10:59.076802Z",
     "iopub.status.idle": "2021-01-31T06:10:59.177728Z",
     "shell.execute_reply": "2021-01-31T06:10:59.178215Z"
    },
    "papermill": {
     "duration": 0.120154,
     "end_time": "2021-01-31T06:10:59.178402",
     "exception": false,
     "start_time": "2021-01-31T06:10:59.058248",
     "status": "completed"
    },
    "tags": []
   },
   "outputs": [
    {
     "name": "stdout",
     "output_type": "stream",
     "text": [
      "Setup Complete\n"
     ]
    }
   ],
   "source": [
    "# Set up code checking\n",
    "import os\n",
    "if not os.path.exists(\"../input/ign_scores.csv\"):\n",
    "    os.symlink(\"../input/data-for-datavis/ign_scores.csv\", \"../input/ign_scores.csv\") \n",
    "from learntools.core import binder\n",
    "binder.bind(globals())\n",
    "from learntools.data_viz_to_coder.ex3 import *\n",
    "print(\"Setup Complete\")"
   ]
  },
  {
   "cell_type": "markdown",
   "metadata": {
    "papermill": {
     "duration": 0.0152,
     "end_time": "2021-01-31T06:10:59.209037",
     "exception": false,
     "start_time": "2021-01-31T06:10:59.193837",
     "status": "completed"
    },
    "tags": []
   },
   "source": [
    "## Step 1: Load the data\n",
    "\n",
    "Read the IGN data file into `ign_data`.  Use the `\"Platform\"` column to label the rows."
   ]
  },
  {
   "cell_type": "code",
   "execution_count": 3,
   "metadata": {
    "execution": {
     "iopub.execute_input": "2021-01-31T06:10:59.244400Z",
     "iopub.status.busy": "2021-01-31T06:10:59.243375Z",
     "iopub.status.idle": "2021-01-31T06:10:59.257843Z",
     "shell.execute_reply": "2021-01-31T06:10:59.258334Z"
    },
    "papermill": {
     "duration": 0.033975,
     "end_time": "2021-01-31T06:10:59.258504",
     "exception": false,
     "start_time": "2021-01-31T06:10:59.224529",
     "status": "completed"
    },
    "tags": []
   },
   "outputs": [
    {
     "data": {
      "application/javascript": [
       "parent.postMessage({\"jupyterEvent\": \"custom.exercise_interaction\", \"data\": {\"outcomeType\": 1, \"valueTowardsCompletion\": 0.5, \"interactionType\": 1, \"questionType\": 1, \"questionId\": \"1_LoadIGNData\", \"learnToolsVersion\": \"0.3.4\", \"failureMessage\": \"\", \"exceptionClass\": \"\", \"trace\": \"\"}}, \"*\")"
      ],
      "text/plain": [
       "<IPython.core.display.Javascript object>"
      ]
     },
     "metadata": {},
     "output_type": "display_data"
    },
    {
     "data": {
      "text/markdown": [
       "<span style=\"color:#33cc33\">Correct</span>"
      ],
      "text/plain": [
       "Correct"
      ]
     },
     "metadata": {},
     "output_type": "display_data"
    }
   ],
   "source": [
    "# Path of the file to read\n",
    "ign_filepath = \"../input/ign_scores.csv\"\n",
    "\n",
    "# Fill in the line below to read the file into a variable ign_data\n",
    "ign_data = pd.read_csv(ign_filepath,index_col=\"Platform\")\n",
    "\n",
    "# Run the line below with no changes to check that you've loaded the data correctly\n",
    "step_1.check()"
   ]
  },
  {
   "cell_type": "code",
   "execution_count": 4,
   "metadata": {
    "execution": {
     "iopub.execute_input": "2021-01-31T06:10:59.295522Z",
     "iopub.status.busy": "2021-01-31T06:10:59.294853Z",
     "iopub.status.idle": "2021-01-31T06:10:59.298073Z",
     "shell.execute_reply": "2021-01-31T06:10:59.298569Z"
    },
    "papermill": {
     "duration": 0.023485,
     "end_time": "2021-01-31T06:10:59.298752",
     "exception": false,
     "start_time": "2021-01-31T06:10:59.275267",
     "status": "completed"
    },
    "tags": []
   },
   "outputs": [],
   "source": [
    "# Lines below will give you a hint or solution code\n",
    "#step_1.hint()\n",
    "#step_1.solution()"
   ]
  },
  {
   "cell_type": "markdown",
   "metadata": {
    "papermill": {
     "duration": 0.016605,
     "end_time": "2021-01-31T06:10:59.333759",
     "exception": false,
     "start_time": "2021-01-31T06:10:59.317154",
     "status": "completed"
    },
    "tags": []
   },
   "source": [
    "## Step 2: Review the data\n",
    "\n",
    "Use a Python command to print the entire dataset."
   ]
  },
  {
   "cell_type": "code",
   "execution_count": 5,
   "metadata": {
    "execution": {
     "iopub.execute_input": "2021-01-31T06:10:59.374594Z",
     "iopub.status.busy": "2021-01-31T06:10:59.373490Z",
     "iopub.status.idle": "2021-01-31T06:10:59.379863Z",
     "shell.execute_reply": "2021-01-31T06:10:59.379183Z"
    },
    "papermill": {
     "duration": 0.029223,
     "end_time": "2021-01-31T06:10:59.380013",
     "exception": false,
     "start_time": "2021-01-31T06:10:59.350790",
     "status": "completed"
    },
    "tags": []
   },
   "outputs": [
    {
     "data": {
      "text/plain": [
       "Index(['Dreamcast', 'Game Boy Advance', 'Game Boy Color', 'GameCube',\n",
       "       'Nintendo 3DS', 'Nintendo 64', 'Nintendo DS', 'Nintendo DSi', 'PC',\n",
       "       'PlayStation', 'PlayStation 2', 'PlayStation 3', 'PlayStation 4',\n",
       "       'PlayStation Portable', 'PlayStation Vita', 'Wii', 'Wireless', 'Xbox',\n",
       "       'Xbox 360', 'Xbox One', 'iPhone'],\n",
       "      dtype='object', name='Platform')"
      ]
     },
     "execution_count": 5,
     "metadata": {},
     "output_type": "execute_result"
    }
   ],
   "source": [
    "# Print the data\n",
    "#ign_data# Your code here\n",
    "ign_data.index"
   ]
  },
  {
   "cell_type": "markdown",
   "metadata": {
    "papermill": {
     "duration": 0.017052,
     "end_time": "2021-01-31T06:10:59.414572",
     "exception": false,
     "start_time": "2021-01-31T06:10:59.397520",
     "status": "completed"
    },
    "tags": []
   },
   "source": [
    "The dataset that you've just printed shows the average score, by platform and genre.  Use the data to answer the questions below."
   ]
  },
  {
   "cell_type": "code",
   "execution_count": 6,
   "metadata": {
    "execution": {
     "iopub.execute_input": "2021-01-31T06:10:59.462721Z",
     "iopub.status.busy": "2021-01-31T06:10:59.461930Z",
     "iopub.status.idle": "2021-01-31T06:10:59.467248Z",
     "shell.execute_reply": "2021-01-31T06:10:59.467724Z"
    },
    "papermill": {
     "duration": 0.035905,
     "end_time": "2021-01-31T06:10:59.467924",
     "exception": false,
     "start_time": "2021-01-31T06:10:59.432019",
     "status": "completed"
    },
    "tags": []
   },
   "outputs": [
    {
     "data": {
      "application/javascript": [
       "parent.postMessage({\"jupyterEvent\": \"custom.exercise_interaction\", \"data\": {\"outcomeType\": 1, \"valueTowardsCompletion\": 0.5, \"interactionType\": 1, \"questionType\": 1, \"questionId\": \"2_ReviewData\", \"learnToolsVersion\": \"0.3.4\", \"failureMessage\": \"\", \"exceptionClass\": \"\", \"trace\": \"\"}}, \"*\")"
      ],
      "text/plain": [
       "<IPython.core.display.Javascript object>"
      ]
     },
     "metadata": {},
     "output_type": "display_data"
    },
    {
     "data": {
      "text/markdown": [
       "<span style=\"color:#33cc33\">Correct</span>"
      ],
      "text/plain": [
       "Correct"
      ]
     },
     "metadata": {},
     "output_type": "display_data"
    }
   ],
   "source": [
    "# Fill in the line below: What is the highest average score received by PC games,\n",
    "# for any platform?\n",
    "fa=ign_data.loc['PC']\n",
    "high_score = fa.max()\n",
    "\n",
    "\n",
    "\n",
    "# Fill in the line below: On the Playstation Vita platform, which genre has the \n",
    "# lowest average score? Please provide the name of the column, and put your answer \n",
    "# in single quotes (e.g., 'Action', 'Adventure', 'Fighting', etc.)\n",
    "\n",
    "\n",
    "de=pd.DataFrame(ign_data.loc['PlayStation Vita']);\n",
    "m1=list(de.index);\n",
    "m2=list(de['PlayStation Vita'])\n",
    "dee=pd.DataFrame(m2,m1)\n",
    "min_val=dee[0].min()\n",
    "c=0;\n",
    "n=0;\n",
    "for i in dee[0]:\n",
    "    if i != min_val:\n",
    "        n=n+1;\n",
    "    else:\n",
    "        c=n;\n",
    "worst_genre = dee.index[c];  \n",
    "worst_genre\n",
    "    \n",
    "# Check your answers\n",
    "step_2.check()"
   ]
  },
  {
   "cell_type": "code",
   "execution_count": 7,
   "metadata": {
    "execution": {
     "iopub.execute_input": "2021-01-31T06:10:59.509381Z",
     "iopub.status.busy": "2021-01-31T06:10:59.508688Z",
     "iopub.status.idle": "2021-01-31T06:10:59.511632Z",
     "shell.execute_reply": "2021-01-31T06:10:59.512117Z"
    },
    "papermill": {
     "duration": 0.025365,
     "end_time": "2021-01-31T06:10:59.512300",
     "exception": false,
     "start_time": "2021-01-31T06:10:59.486935",
     "status": "completed"
    },
    "tags": []
   },
   "outputs": [],
   "source": [
    "# Lines below will give you a hint or solution code\n",
    "#step_2.hint()\n",
    "#step_2.solution()\n",
    "\n"
   ]
  },
  {
   "cell_type": "markdown",
   "metadata": {
    "papermill": {
     "duration": 0.018448,
     "end_time": "2021-01-31T06:10:59.549388",
     "exception": false,
     "start_time": "2021-01-31T06:10:59.530940",
     "status": "completed"
    },
    "tags": []
   },
   "source": [
    "## Step 3: Which platform is best?\n",
    "\n",
    "Since you can remember, your favorite video game has been [**Mario Kart Wii**](https://www.ign.com/games/mario-kart-wii), a racing game released for the Wii platform in 2008.  And, IGN agrees with you that it is a great game -- their rating for this game is a whopping 8.9!  Inspired by the success of this game, you're considering creating your very own racing game for the Wii platform.\n",
    "\n",
    "#### Part A\n",
    "\n",
    "Create a bar chart that shows the average score for **racing** games, for each platform.  Your chart should have one bar for each platform. "
   ]
  },
  {
   "cell_type": "code",
   "execution_count": 8,
   "metadata": {
    "execution": {
     "iopub.execute_input": "2021-01-31T06:10:59.590276Z",
     "iopub.status.busy": "2021-01-31T06:10:59.589609Z",
     "iopub.status.idle": "2021-01-31T06:11:00.033317Z",
     "shell.execute_reply": "2021-01-31T06:11:00.032707Z"
    },
    "papermill": {
     "duration": 0.465585,
     "end_time": "2021-01-31T06:11:00.033475",
     "exception": false,
     "start_time": "2021-01-31T06:10:59.567890",
     "status": "completed"
    },
    "tags": []
   },
   "outputs": [
    {
     "data": {
      "application/javascript": [
       "parent.postMessage({\"jupyterEvent\": \"custom.exercise_interaction\", \"data\": {\"outcomeType\": 1, \"valueTowardsCompletion\": 0.5, \"interactionType\": 1, \"questionType\": 2, \"questionId\": \"3.1_PlotRacing\", \"learnToolsVersion\": \"0.3.4\", \"failureMessage\": \"\", \"exceptionClass\": \"\", \"trace\": \"\"}}, \"*\")"
      ],
      "text/plain": [
       "<IPython.core.display.Javascript object>"
      ]
     },
     "metadata": {},
     "output_type": "display_data"
    },
    {
     "data": {
      "text/markdown": [
       "<span style=\"color:#33cc33\">Correct</span>"
      ],
      "text/plain": [
       "Correct"
      ]
     },
     "metadata": {},
     "output_type": "display_data"
    },
    {
     "data": {
      "image/png": "[encoded data removed]",
      "text/plain": [
       "<Figure size 1728x432 with 1 Axes>"
      ]
     },
     "metadata": {
      "needs_background": "light"
     },
     "output_type": "display_data"
    }
   ],
   "source": [
    "# Bar chart showing average score for racing games by platform\n",
    "plt.figure(figsize=(24,6));\n",
    "plt.title(\"Average score for racing games by platform\")          \n",
    "sns.barplot(x=ign_data.index,y=ign_data['Racing'])# Your code here\n",
    "\n",
    "# Check your answer\n",
    "step_3.a.check()"
   ]
  },
  {
   "cell_type": "code",
   "execution_count": 9,
   "metadata": {
    "execution": {
     "iopub.execute_input": "2021-01-31T06:11:00.078643Z",
     "iopub.status.busy": "2021-01-31T06:11:00.077894Z",
     "iopub.status.idle": "2021-01-31T06:11:00.082515Z",
     "shell.execute_reply": "2021-01-31T06:11:00.083049Z"
    },
    "papermill": {
     "duration": 0.029194,
     "end_time": "2021-01-31T06:11:00.083238",
     "exception": false,
     "start_time": "2021-01-31T06:11:00.054044",
     "status": "completed"
    },
    "tags": []
   },
   "outputs": [],
   "source": [
    "# Lines below will give you a hint or solution code\n",
    "#step_3.a.hint()\n",
    "#step_3.a.solution_plot()\n"
   ]
  },
  {
   "cell_type": "markdown",
   "metadata": {
    "papermill": {
     "duration": 0.020293,
     "end_time": "2021-01-31T06:11:00.124245",
     "exception": false,
     "start_time": "2021-01-31T06:11:00.103952",
     "status": "completed"
    },
    "tags": []
   },
   "source": [
    "#### Part B\n",
    "\n",
    "Based on the bar chart, do you expect a racing game for the **Wii** platform to receive a high rating?  If not, what gaming platform seems to be the best alternative?"
   ]
  },
  {
   "cell_type": "code",
   "execution_count": 10,
   "metadata": {
    "execution": {
     "iopub.execute_input": "2021-01-31T06:11:00.170990Z",
     "iopub.status.busy": "2021-01-31T06:11:00.170102Z",
     "iopub.status.idle": "2021-01-31T06:11:00.172440Z",
     "shell.execute_reply": "2021-01-31T06:11:00.172973Z"
    },
    "papermill": {
     "duration": 0.027784,
     "end_time": "2021-01-31T06:11:00.173147",
     "exception": false,
     "start_time": "2021-01-31T06:11:00.145363",
     "status": "completed"
    },
    "tags": []
   },
   "outputs": [],
   "source": [
    "#step_3.b.hint()"
   ]
  },
  {
   "cell_type": "code",
   "execution_count": 11,
   "metadata": {
    "execution": {
     "iopub.execute_input": "2021-01-31T06:11:00.217996Z",
     "iopub.status.busy": "2021-01-31T06:11:00.217323Z",
     "iopub.status.idle": "2021-01-31T06:11:00.220927Z",
     "shell.execute_reply": "2021-01-31T06:11:00.221491Z"
    },
    "papermill": {
     "duration": 0.02774,
     "end_time": "2021-01-31T06:11:00.221691",
     "exception": false,
     "start_time": "2021-01-31T06:11:00.193951",
     "status": "completed"
    },
    "tags": []
   },
   "outputs": [],
   "source": [
    "# Check your answer (Run this code cell to receive credit!)\n",
    "#step_3.b.solution()"
   ]
  },
  {
   "cell_type": "markdown",
   "metadata": {
    "papermill": {
     "duration": 0.020261,
     "end_time": "2021-01-31T06:11:00.264212",
     "exception": false,
     "start_time": "2021-01-31T06:11:00.243951",
     "status": "completed"
    },
    "tags": []
   },
   "source": [
    "## Step 4: All possible combinations!\n",
    "\n",
    "Eventually, you decide against creating a racing game for Wii, but you're still committed to creating your own video game!  Since your gaming interests are pretty broad (_... you generally love most video games_), you decide to use the IGN data to inform your new choice of genre and platform.\n",
    "\n",
    "#### Part A\n",
    "\n",
    "Use the data to create a heatmap of average score by genre and platform.  "
   ]
  },
  {
   "cell_type": "code",
   "execution_count": 12,
   "metadata": {
    "execution": {
     "iopub.execute_input": "2021-01-31T06:11:00.309705Z",
     "iopub.status.busy": "2021-01-31T06:11:00.308986Z",
     "iopub.status.idle": "2021-01-31T06:11:02.024967Z",
     "shell.execute_reply": "2021-01-31T06:11:02.024213Z"
    },
    "papermill": {
     "duration": 1.740021,
     "end_time": "2021-01-31T06:11:02.025123",
     "exception": false,
     "start_time": "2021-01-31T06:11:00.285102",
     "status": "completed"
    },
    "tags": []
   },
   "outputs": [
    {
     "data": {
      "application/javascript": [
       "parent.postMessage({\"jupyterEvent\": \"custom.exercise_interaction\", \"data\": {\"outcomeType\": 1, \"valueTowardsCompletion\": 0.5, \"interactionType\": 1, \"questionType\": 2, \"questionId\": \"4.1_PlotHeat\", \"learnToolsVersion\": \"0.3.4\", \"failureMessage\": \"\", \"exceptionClass\": \"\", \"trace\": \"\"}}, \"*\")"
      ],
      "text/plain": [
       "<IPython.core.display.Javascript object>"
      ]
     },
     "metadata": {},
     "output_type": "display_data"
    },
    {
     "data": {
      "text/markdown": [
       "<span style=\"color:#33cc33\">Correct</span>"
      ],
      "text/plain": [
       "Correct"
      ]
     },
     "metadata": {},
     "output_type": "display_data"
    },
    {
     "data": {
      "image/png": "[encoded data removed]",
      "text/plain": [
       "<Figure size 432x288 with 2 Axes>"
      ]
     },
     "metadata": {
      "needs_background": "light"
     },
     "output_type": "display_data"
    }
   ],
   "source": [
    "# Heatmap showing average game score by platform and genre\n",
    "sns.heatmap(data=ign_data,annot=True) # Your code here\n",
    "\n",
    "# Check your answer\n",
    "step_4.a.check()"
   ]
  },
  {
   "cell_type": "code",
   "execution_count": 13,
   "metadata": {
    "execution": {
     "iopub.execute_input": "2021-01-31T06:11:02.084692Z",
     "iopub.status.busy": "2021-01-31T06:11:02.083947Z",
     "iopub.status.idle": "2021-01-31T06:11:02.087877Z",
     "shell.execute_reply": "2021-01-31T06:11:02.087105Z"
    },
    "papermill": {
     "duration": 0.03621,
     "end_time": "2021-01-31T06:11:02.088191",
     "exception": false,
     "start_time": "2021-01-31T06:11:02.051981",
     "status": "completed"
    },
    "tags": []
   },
   "outputs": [],
   "source": [
    "# Lines below will give you a hint or solution code\n",
    "#step_4.a.hint()\n",
    "#step_4.a.solution_plot()"
   ]
  },
  {
   "cell_type": "markdown",
   "metadata": {
    "papermill": {
     "duration": 0.024323,
     "end_time": "2021-01-31T06:11:02.137324",
     "exception": false,
     "start_time": "2021-01-31T06:11:02.113001",
     "status": "completed"
    },
    "tags": []
   },
   "source": [
    "#### Part B\n",
    "\n",
    "Which combination of genre and platform receives the highest average ratings?  Which combination receives the lowest average rankings?"
   ]
  },
  {
   "cell_type": "code",
   "execution_count": 14,
   "metadata": {
    "execution": {
     "iopub.execute_input": "2021-01-31T06:11:02.191862Z",
     "iopub.status.busy": "2021-01-31T06:11:02.191095Z",
     "iopub.status.idle": "2021-01-31T06:11:02.194914Z",
     "shell.execute_reply": "2021-01-31T06:11:02.194301Z"
    },
    "papermill": {
     "duration": 0.03292,
     "end_time": "2021-01-31T06:11:02.195094",
     "exception": false,
     "start_time": "2021-01-31T06:11:02.162174",
     "status": "completed"
    },
    "tags": []
   },
   "outputs": [],
   "source": [
    "#step_4.b.hint()"
   ]
  },
  {
   "cell_type": "code",
   "execution_count": 15,
   "metadata": {
    "execution": {
     "iopub.execute_input": "2021-01-31T06:11:02.251715Z",
     "iopub.status.busy": "2021-01-31T06:11:02.250945Z",
     "iopub.status.idle": "2021-01-31T06:11:02.256502Z",
     "shell.execute_reply": "2021-01-31T06:11:02.255977Z"
    },
    "papermill": {
     "duration": 0.036172,
     "end_time": "2021-01-31T06:11:02.256678",
     "exception": false,
     "start_time": "2021-01-31T06:11:02.220506",
     "status": "completed"
    },
    "tags": []
   },
   "outputs": [
    {
     "data": {
      "application/javascript": [
       "parent.postMessage({\"jupyterEvent\": \"custom.exercise_interaction\", \"data\": {\"interactionType\": 3, \"questionType\": 4, \"questionId\": \"4.2_ThinkHeat\", \"learnToolsVersion\": \"0.3.4\", \"valueTowardsCompletion\": 0.0, \"failureMessage\": \"\", \"exceptionClass\": \"\", \"trace\": \"\", \"outcomeType\": 4}}, \"*\")"
      ],
      "text/plain": [
       "<IPython.core.display.Javascript object>"
      ]
     },
     "metadata": {},
     "output_type": "display_data"
    },
    {
     "data": {
      "text/markdown": [
       "<span style=\"color:#33cc99\">Solution:</span> **Simulation** games for **Playstation 4** receive the highest average ratings (9.2). **Shooting** and **Fighting** games for **Game Boy Color** receive the lowest average rankings (4.5)."
      ],
      "text/plain": [
       "Solution: **Simulation** games for **Playstation 4** receive the highest average ratings (9.2). **Shooting** and **Fighting** games for **Game Boy Color** receive the lowest average rankings (4.5)."
      ]
     },
     "metadata": {},
     "output_type": "display_data"
    }
   ],
   "source": [
    "# Check your answer (Run this code cell to receive credit!)\n",
    "step_4.b.solution()"
   ]
  },
  {
   "cell_type": "markdown",
   "metadata": {
    "papermill": {
     "duration": 0.026055,
     "end_time": "2021-01-31T06:11:02.309248",
     "exception": false,
     "start_time": "2021-01-31T06:11:02.283193",
     "status": "completed"
    },
    "tags": []
   },
   "source": [
    "# Keep going\n",
    "\n",
    "Move on to learn all about **[scatter plots](https://www.kaggle.com/alexisbcook/scatter-plots)**!"
   ]
  },
  {
   "cell_type": "markdown",
   "metadata": {
    "papermill": {
     "duration": 0.025876,
     "end_time": "2021-01-31T06:11:02.361057",
     "exception": false,
     "start_time": "2021-01-31T06:11:02.335181",
     "status": "completed"
    },
    "tags": []
   },
   "source": [
    "---\n",
    "\n",
    "\n",
    "\n",
    "\n",
    "*Have questions or comments? Visit the [Learn Discussion forum](https://www.kaggle.com/learn-forum/161291) to chat with other Learners.*"
   ]
  }
 ],
 "metadata": {
  "kernelspec": {
   "display_name": "Python 3",
   "language": "python",
   "name": "python3"
  },
  "language_info": {
   "codemirror_mode": {
    "name": "ipython",
    "version": 3
   },
   "file_extension": ".py",
   "mimetype": "text/x-python",
   "name": "python",
   "nbconvert_exporter": "python",
   "pygments_lexer": "ipython3",
   "version": "3.7.9"
  },
  "papermill": {
   "default_parameters": {},
   "duration": 12.301927,
   "end_time": "2021-01-31T06:11:03.097318",
   "environment_variables": {},
   "exception": null,
   "input_path": "__notebook__.ipynb",
   "output_path": "__notebook__.ipynb",
   "parameters": {},
   "start_time": "2021-01-31T06:10:50.795391",
   "version": "2.2.2"
  }
 },
 "nbformat": 4,
 "nbformat_minor": 4
}
