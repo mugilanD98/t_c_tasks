{
 "cells": [
  {
   "cell_type": "markdown",
   "metadata": {
    "papermill": {
     "duration": 0.019429,
     "end_time": "2021-01-30T04:24:28.091938",
     "exception": false,
     "start_time": "2021-01-30T04:24:28.072509",
     "status": "completed"
    },
    "tags": []
   },
   "source": [
    "**This notebook is an exercise in the [Feature Engineering](https://www.kaggle.com/learn/feature-engineering) course.  You can reference the tutorial at [this link](https://www.kaggle.com/matleonard/categorical-encodings).**\n",
    "\n",
    "---\n"
   ]
  },
  {
   "cell_type": "markdown",
   "metadata": {
    "papermill": {
     "duration": 0.01762,
     "end_time": "2021-01-30T04:24:28.127649",
     "exception": false,
     "start_time": "2021-01-30T04:24:28.110029",
     "status": "completed"
    },
    "tags": []
   },
   "source": [
    "# Introduction\n",
    "\n",
    "In this exercise you'll apply more advanced encodings to encode the categorical variables ito improve your classifier model. The encodings you will implement are:\n",
    "\n",
    "- Count Encoding\n",
    "- Target Encoding\n",
    "- CatBoost Encoding\n",
    "\n",
    "You'll refit the classifier after each encoding to check its performance on hold-out data. \n",
    "\n",
    "Begin by running the next code cell to set up the notebook."
   ]
  },
  {
   "cell_type": "code",
   "execution_count": 1,
   "metadata": {
    "execution": {
     "iopub.execute_input": "2021-01-30T04:24:28.170290Z",
     "iopub.status.busy": "2021-01-30T04:24:28.169535Z",
     "iopub.status.idle": "2021-01-30T04:24:58.023326Z",
     "shell.execute_reply": "2021-01-30T04:24:58.022374Z"
    },
    "papermill": {
     "duration": 29.878057,
     "end_time": "2021-01-30T04:24:58.023585",
     "exception": false,
     "start_time": "2021-01-30T04:24:28.145528",
     "status": "completed"
    },
    "tags": []
   },
   "outputs": [
    {
     "name": "stderr",
     "output_type": "stream",
     "text": [
      "/opt/conda/lib/python3.7/site-packages/category_encoders/utils.py:21: FutureWarning: is_categorical is deprecated and will be removed in a future version.  Use is_categorical_dtype instead\n",
      "  elif pd.api.types.is_categorical(cols):\n",
      "/opt/conda/lib/python3.7/site-packages/category_encoders/utils.py:21: FutureWarning: is_categorical is deprecated and will be removed in a future version.  Use is_categorical_dtype instead\n",
      "  elif pd.api.types.is_categorical(cols):\n"
     ]
    }
   ],
   "source": [
    "# Set up code checking\n",
    "# This can take a few seconds\n",
    "from learntools.core import binder\n",
    "binder.bind(globals())\n",
    "from learntools.feature_engineering.ex2 import *"
   ]
  },
  {
   "cell_type": "markdown",
   "metadata": {
    "papermill": {
     "duration": 0.019102,
     "end_time": "2021-01-30T04:24:58.062893",
     "exception": false,
     "start_time": "2021-01-30T04:24:58.043791",
     "status": "completed"
    },
    "tags": []
   },
   "source": [
    "The next code cell repeats the work that you did in the previous exercise."
   ]
  },
  {
   "cell_type": "code",
   "execution_count": 2,
   "metadata": {
    "execution": {
     "iopub.execute_input": "2021-01-30T04:24:58.108220Z",
     "iopub.status.busy": "2021-01-30T04:24:58.107506Z",
     "iopub.status.idle": "2021-01-30T04:24:58.664220Z",
     "shell.execute_reply": "2021-01-30T04:24:58.663412Z"
    },
    "papermill": {
     "duration": 0.582003,
     "end_time": "2021-01-30T04:24:58.664397",
     "exception": false,
     "start_time": "2021-01-30T04:24:58.082394",
     "status": "completed"
    },
    "tags": []
   },
   "outputs": [
    {
     "data": {
      "text/html": [
       "<style type='text/css'>\n",
       ".datatable table.frame { margin-bottom: 0; }\n",
       ".datatable table.frame thead { border-bottom: none; }\n",
       ".datatable table.frame tr.coltypes td {  color: #FFFFFF;  line-height: 6px;  padding: 0 0.5em;}\n",
       ".datatable .bool    { background: #DDDD99; }\n",
       ".datatable .object  { background: #565656; }\n",
       ".datatable .int     { background: #5D9E5D; }\n",
       ".datatable .float   { background: #4040CC; }\n",
       ".datatable .str     { background: #CC4040; }\n",
       ".datatable .row_index {  background: var(--jp-border-color3);  border-right: 1px solid var(--jp-border-color0);  color: var(--jp-ui-font-color3);  font-size: 9px;}\n",
       ".datatable .frame tr.coltypes .row_index {  background: var(--jp-border-color0);}\n",
       ".datatable th:nth-child(2) { padding-left: 12px; }\n",
       ".datatable .hellipsis {  color: var(--jp-cell-editor-border-color);}\n",
       ".datatable .vellipsis {  background: var(--jp-layout-color0);  color: var(--jp-cell-editor-border-color);}\n",
       ".datatable .na {  color: var(--jp-cell-editor-border-color);  font-size: 80%;}\n",
       ".datatable .footer { font-size: 9px; }\n",
       ".datatable .frame_dimensions {  background: var(--jp-border-color3);  border-top: 1px solid var(--jp-border-color0);  color: var(--jp-ui-font-color3);  display: inline-block;  opacity: 0.6;  padding: 1px 10px 1px 5px;}\n",
       "</style>\n"
      ],
      "text/plain": [
       "<IPython.core.display.HTML object>"
      ]
     },
     "metadata": {},
     "output_type": "display_data"
    }
   ],
   "source": [
    "import numpy as np\n",
    "import pandas as pd\n",
    "from sklearn import preprocessing, metrics\n",
    "import lightgbm as lgb\n",
    "\n",
    "clicks = pd.read_parquet('../input/feature-engineering-data/baseline_data.pqt')"
   ]
  },
  {
   "cell_type": "markdown",
   "metadata": {
    "papermill": {
     "duration": 0.020569,
     "end_time": "2021-01-30T04:24:58.704847",
     "exception": false,
     "start_time": "2021-01-30T04:24:58.684278",
     "status": "completed"
    },
    "tags": []
   },
   "source": [
    "Next, we define a couple functions that you'll use to test the encodings that you implement in this exercise."
   ]
  },
  {
   "cell_type": "code",
   "execution_count": 3,
   "metadata": {
    "execution": {
     "iopub.execute_input": "2021-01-30T04:24:58.757343Z",
     "iopub.status.busy": "2021-01-30T04:24:58.756500Z",
     "iopub.status.idle": "2021-01-30T04:24:58.760386Z",
     "shell.execute_reply": "2021-01-30T04:24:58.759844Z"
    },
    "papermill": {
     "duration": 0.035998,
     "end_time": "2021-01-30T04:24:58.760530",
     "exception": false,
     "start_time": "2021-01-30T04:24:58.724532",
     "status": "completed"
    },
    "tags": []
   },
   "outputs": [],
   "source": [
    "def get_data_splits(dataframe, valid_fraction=0.1):\n",
    "    \"\"\"Splits a dataframe into train, validation, and test sets.\n",
    "\n",
    "    First, orders by the column 'click_time'. Set the size of the \n",
    "    validation and test sets with the valid_fraction keyword argument.\n",
    "    \"\"\"\n",
    "\n",
    "    dataframe = dataframe.sort_values('click_time')\n",
    "    valid_rows = int(len(dataframe) * valid_fraction)\n",
    "    train = dataframe[:-valid_rows * 2]\n",
    "    # valid size == test size, last two sections of the data\n",
    "    valid = dataframe[-valid_rows * 2:-valid_rows]\n",
    "    test = dataframe[-valid_rows:]\n",
    "    \n",
    "    return train, valid, test\n",
    "\n",
    "def train_model(train, valid, test=None, feature_cols=None):\n",
    "    if feature_cols is None:\n",
    "        feature_cols = train.columns.drop(['click_time', 'attributed_time',\n",
    "                                           'is_attributed'])\n",
    "    dtrain = lgb.Dataset(train[feature_cols], label=train['is_attributed'])\n",
    "    dvalid = lgb.Dataset(valid[feature_cols], label=valid['is_attributed'])\n",
    "    \n",
    "    param = {'num_leaves': 64, 'objective': 'binary', \n",
    "             'metric': 'auc', 'seed': 7}\n",
    "    num_round = 1000\n",
    "    bst = lgb.train(param, dtrain, num_round, valid_sets=[dvalid], \n",
    "                    early_stopping_rounds=20, verbose_eval=False)\n",
    "    \n",
    "    valid_pred = bst.predict(valid[feature_cols])\n",
    "    valid_score = metrics.roc_auc_score(valid['is_attributed'], valid_pred)\n",
    "    print(f\"Validation AUC score: {valid_score}\")\n",
    "    \n",
    "    if test is not None: \n",
    "        test_pred = bst.predict(test[feature_cols])\n",
    "        test_score = metrics.roc_auc_score(test['is_attributed'], test_pred)\n",
    "        return bst, valid_score, test_score\n",
    "    else:\n",
    "        return bst, valid_score"
   ]
  },
  {
   "cell_type": "markdown",
   "metadata": {
    "papermill": {
     "duration": 0.019389,
     "end_time": "2021-01-30T04:24:58.799537",
     "exception": false,
     "start_time": "2021-01-30T04:24:58.780148",
     "status": "completed"
    },
    "tags": []
   },
   "source": [
    "Run this cell to get a baseline score. "
   ]
  },
  {
   "cell_type": "code",
   "execution_count": 4,
   "metadata": {
    "execution": {
     "iopub.execute_input": "2021-01-30T04:24:58.846194Z",
     "iopub.status.busy": "2021-01-30T04:24:58.845439Z",
     "iopub.status.idle": "2021-01-30T04:25:35.191388Z",
     "shell.execute_reply": "2021-01-30T04:25:35.191980Z"
    },
    "papermill": {
     "duration": 36.372873,
     "end_time": "2021-01-30T04:25:35.192206",
     "exception": false,
     "start_time": "2021-01-30T04:24:58.819333",
     "status": "completed"
    },
    "tags": []
   },
   "outputs": [
    {
     "name": "stdout",
     "output_type": "stream",
     "text": [
      "Baseline model\n",
      "[LightGBM] [Info] Number of positive: 363974, number of negative: 1476475\n",
      "[LightGBM] [Warning] Auto-choosing row-wise multi-threading, the overhead of testing was 0.033045 seconds.\n",
      "You can set `force_row_wise=true` to remove the overhead.\n",
      "And if memory is not enough, you can set `force_col_wise=true`.\n",
      "[LightGBM] [Info] Total Bins 1039\n",
      "[LightGBM] [Info] Number of data points in the train set: 1840449, number of used features: 9\n",
      "[LightGBM] [Info] [binary:BoostFromScore]: pavg=0.197764 -> initscore=-1.400330\n",
      "[LightGBM] [Info] Start training from score -1.400330\n",
      "Validation AUC score: 0.9621485832146418\n"
     ]
    }
   ],
   "source": [
    "print(\"Baseline model\")\n",
    "train, valid, test = get_data_splits(clicks)\n",
    "_ = train_model(train, valid)"
   ]
  },
  {
   "cell_type": "markdown",
   "metadata": {
    "papermill": {
     "duration": 0.021647,
     "end_time": "2021-01-30T04:25:35.235250",
     "exception": false,
     "start_time": "2021-01-30T04:25:35.213603",
     "status": "completed"
    },
    "tags": []
   },
   "source": [
    "### 1) Categorical encodings and leakage\n",
    "\n",
    "These encodings are all based on statistics calculated from the dataset like counts and means. \n",
    "\n",
    "Considering this, what data should you be using to calculate the encodings?  Specifically, can you use the validation data?  Can you use the test data?\n",
    "\n",
    "Run the following line after you've decided your answer."
   ]
  },
  {
   "cell_type": "code",
   "execution_count": 5,
   "metadata": {
    "execution": {
     "iopub.execute_input": "2021-01-30T04:25:35.285201Z",
     "iopub.status.busy": "2021-01-30T04:25:35.284097Z",
     "iopub.status.idle": "2021-01-30T04:25:35.293289Z",
     "shell.execute_reply": "2021-01-30T04:25:35.292526Z"
    },
    "papermill": {
     "duration": 0.036223,
     "end_time": "2021-01-30T04:25:35.293456",
     "exception": false,
     "start_time": "2021-01-30T04:25:35.257233",
     "status": "completed"
    },
    "tags": []
   },
   "outputs": [
    {
     "data": {
      "application/javascript": [
       "parent.postMessage({\"jupyterEvent\": \"custom.exercise_interaction\", \"data\": {\"interactionType\": 3, \"questionType\": 4, \"questionId\": \"1_LeakageQuestion\", \"learnToolsVersion\": \"0.3.4\", \"valueTowardsCompletion\": 0.0, \"failureMessage\": \"\", \"exceptionClass\": \"\", \"trace\": \"\", \"outcomeType\": 4}}, \"*\")"
      ],
      "text/plain": [
       "<IPython.core.display.Javascript object>"
      ]
     },
     "metadata": {},
     "output_type": "display_data"
    },
    {
     "data": {
      "text/markdown": [
       "<span style=\"color:#33cc99\">Solution:</span> You should calculate the encodings from the training set only. If you include data from the validation and test sets into the encodings, you'll overestimate the model's performance. You should in general be vigilant to avoid leakage, that is, including any information from the validation and test sets into the model. For a review on this topic, see our lesson on [data leakage](https://www.kaggle.com/alexisbcook/data-leakage)"
      ],
      "text/plain": [
       "Solution: You should calculate the encodings from the training set only. If you include data from the validation and test sets into the encodings, you'll overestimate the model's performance. You should in general be vigilant to avoid leakage, that is, including any information from the validation and test sets into the model. For a review on this topic, see our lesson on [data leakage](https://www.kaggle.com/alexisbcook/data-leakage)"
      ]
     },
     "metadata": {},
     "output_type": "display_data"
    }
   ],
   "source": [
    "# Check your answer (Run this code cell to receive credit!)\n",
    "q_1.solution()"
   ]
  },
  {
   "cell_type": "markdown",
   "metadata": {
    "papermill": {
     "duration": 0.022426,
     "end_time": "2021-01-30T04:25:35.339814",
     "exception": false,
     "start_time": "2021-01-30T04:25:35.317388",
     "status": "completed"
    },
    "tags": []
   },
   "source": [
    "### 2) Count encodings\n",
    "\n",
    "Begin by running the next code cell to get started."
   ]
  },
  {
   "cell_type": "code",
   "execution_count": 6,
   "metadata": {
    "execution": {
     "iopub.execute_input": "2021-01-30T04:25:35.394680Z",
     "iopub.status.busy": "2021-01-30T04:25:35.393399Z",
     "iopub.status.idle": "2021-01-30T04:25:35.733742Z",
     "shell.execute_reply": "2021-01-30T04:25:35.732439Z"
    },
    "papermill": {
     "duration": 0.370043,
     "end_time": "2021-01-30T04:25:35.734020",
     "exception": false,
     "start_time": "2021-01-30T04:25:35.363977",
     "status": "completed"
    },
    "tags": []
   },
   "outputs": [],
   "source": [
    "import category_encoders as ce\n",
    "\n",
    "cat_features = ['ip', 'app', 'device', 'os', 'channel']\n",
    "train, valid, test = get_data_splits(clicks)"
   ]
  },
  {
   "cell_type": "markdown",
   "metadata": {
    "papermill": {
     "duration": 0.025506,
     "end_time": "2021-01-30T04:25:35.784540",
     "exception": false,
     "start_time": "2021-01-30T04:25:35.759034",
     "status": "completed"
    },
    "tags": []
   },
   "source": [
    "Next, encode the categorical features `['ip', 'app', 'device', 'os', 'channel']` using the count of each value in the data set. \n",
    "- Using `CountEncoder` from the `category_encoders` library, fit the encoding using the categorical feature columns defined in `cat_features`. \n",
    "- Then apply the encodings to the train and validation sets, adding them as new columns with names suffixed `\"_count\"`."
   ]
  },
  {
   "cell_type": "code",
   "execution_count": 7,
   "metadata": {
    "execution": {
     "iopub.execute_input": "2021-01-30T04:25:35.909030Z",
     "iopub.status.busy": "2021-01-30T04:25:35.907807Z",
     "iopub.status.idle": "2021-01-30T04:25:38.238226Z",
     "shell.execute_reply": "2021-01-30T04:25:38.237628Z"
    },
    "papermill": {
     "duration": 2.416886,
     "end_time": "2021-01-30T04:25:38.238425",
     "exception": false,
     "start_time": "2021-01-30T04:25:35.821539",
     "status": "completed"
    },
    "tags": []
   },
   "outputs": [
    {
     "name": "stderr",
     "output_type": "stream",
     "text": [
      "/opt/conda/lib/python3.7/site-packages/category_encoders/utils.py:21: FutureWarning: is_categorical is deprecated and will be removed in a future version.  Use is_categorical_dtype instead\n",
      "  elif pd.api.types.is_categorical(cols):\n"
     ]
    },
    {
     "data": {
      "application/javascript": [
       "parent.postMessage({\"jupyterEvent\": \"custom.exercise_interaction\", \"data\": {\"outcomeType\": 1, \"valueTowardsCompletion\": 0.125, \"interactionType\": 1, \"questionType\": 1, \"questionId\": \"2_CountEncodings\", \"learnToolsVersion\": \"0.3.4\", \"failureMessage\": \"\", \"exceptionClass\": \"\", \"trace\": \"\"}}, \"*\")"
      ],
      "text/plain": [
       "<IPython.core.display.Javascript object>"
      ]
     },
     "metadata": {},
     "output_type": "display_data"
    },
    {
     "data": {
      "text/markdown": [
       "<span style=\"color:#33cc33\">Correct</span>"
      ],
      "text/plain": [
       "Correct"
      ]
     },
     "metadata": {},
     "output_type": "display_data"
    }
   ],
   "source": [
    "# Create the count encoder\n",
    "count_enc = ce.CountEncoder(cols=cat_features)\n",
    "\n",
    "# Learn encoding from the training set\n",
    "count_enc.fit(train[cat_features])\n",
    "\n",
    "# Apply encoding to the train and validation sets as new columns\n",
    "# Make sure to add `_count` as a suffix to the new columns\n",
    "train_encoded = train.join(count_enc.transform(train[cat_features]).add_suffix('_count'))\n",
    "valid_encoded = valid.join(count_enc.transform(valid[cat_features]).add_suffix('_count'))\n",
    "\n",
    "# Check your answer\n",
    "q_2.check()"
   ]
  },
  {
   "cell_type": "code",
   "execution_count": 8,
   "metadata": {
    "execution": {
     "iopub.execute_input": "2021-01-30T04:25:38.294669Z",
     "iopub.status.busy": "2021-01-30T04:25:38.293963Z",
     "iopub.status.idle": "2021-01-30T04:25:38.297630Z",
     "shell.execute_reply": "2021-01-30T04:25:38.297109Z"
    },
    "papermill": {
     "duration": 0.033426,
     "end_time": "2021-01-30T04:25:38.297805",
     "exception": false,
     "start_time": "2021-01-30T04:25:38.264379",
     "status": "completed"
    },
    "tags": []
   },
   "outputs": [],
   "source": [
    "# Uncomment if you need some guidance\n",
    "# q_2.hint()\n",
    "#q_2.solution()"
   ]
  },
  {
   "cell_type": "markdown",
   "metadata": {
    "papermill": {
     "duration": 0.024088,
     "end_time": "2021-01-30T04:25:38.346640",
     "exception": false,
     "start_time": "2021-01-30T04:25:38.322552",
     "status": "completed"
    },
    "tags": []
   },
   "source": [
    "Run the next code cell to see how count encoding changes the results."
   ]
  },
  {
   "cell_type": "code",
   "execution_count": 9,
   "metadata": {
    "execution": {
     "iopub.execute_input": "2021-01-30T04:25:38.404524Z",
     "iopub.status.busy": "2021-01-30T04:25:38.403785Z",
     "iopub.status.idle": "2021-01-30T04:26:17.444190Z",
     "shell.execute_reply": "2021-01-30T04:26:17.444696Z"
    },
    "papermill": {
     "duration": 39.073079,
     "end_time": "2021-01-30T04:26:17.444881",
     "exception": false,
     "start_time": "2021-01-30T04:25:38.371802",
     "status": "completed"
    },
    "tags": []
   },
   "outputs": [
    {
     "name": "stdout",
     "output_type": "stream",
     "text": [
      "[LightGBM] [Info] Number of positive: 363974, number of negative: 1476475\n",
      "[LightGBM] [Warning] Auto-choosing row-wise multi-threading, the overhead of testing was 0.095305 seconds.\n",
      "You can set `force_row_wise=true` to remove the overhead.\n",
      "And if memory is not enough, you can set `force_col_wise=true`.\n",
      "[LightGBM] [Info] Total Bins 1878\n",
      "[LightGBM] [Info] Number of data points in the train set: 1840449, number of used features: 14\n",
      "[LightGBM] [Info] [binary:BoostFromScore]: pavg=0.197764 -> initscore=-1.400330\n",
      "[LightGBM] [Info] Start training from score -1.400330\n",
      "Validation AUC score: 0.9651119948976146\n"
     ]
    }
   ],
   "source": [
    "# Train the model on the encoded datasets\n",
    "# This can take around 30 seconds to complete\n",
    "_ = train_model(train_encoded, valid_encoded)"
   ]
  },
  {
   "cell_type": "markdown",
   "metadata": {
    "papermill": {
     "duration": 0.025132,
     "end_time": "2021-01-30T04:26:17.495225",
     "exception": false,
     "start_time": "2021-01-30T04:26:17.470093",
     "status": "completed"
    },
    "tags": []
   },
   "source": [
    "Count encoding improved our model's score!"
   ]
  },
  {
   "cell_type": "markdown",
   "metadata": {
    "papermill": {
     "duration": 0.025458,
     "end_time": "2021-01-30T04:26:17.546021",
     "exception": false,
     "start_time": "2021-01-30T04:26:17.520563",
     "status": "completed"
    },
    "tags": []
   },
   "source": [
    "### 3) Why is count encoding effective?\n",
    "At first glance, it could be surprising that count encoding helps make accurate models. \n",
    "Why do you think is count encoding is a good idea, or how does it improve the model score?\n",
    "\n",
    "Run the following line after you've decided your answer."
   ]
  },
  {
   "cell_type": "code",
   "execution_count": 10,
   "metadata": {
    "execution": {
     "iopub.execute_input": "2021-01-30T04:26:17.600935Z",
     "iopub.status.busy": "2021-01-30T04:26:17.599963Z",
     "iopub.status.idle": "2021-01-30T04:26:17.607259Z",
     "shell.execute_reply": "2021-01-30T04:26:17.607780Z"
    },
    "papermill": {
     "duration": 0.036783,
     "end_time": "2021-01-30T04:26:17.607960",
     "exception": false,
     "start_time": "2021-01-30T04:26:17.571177",
     "status": "completed"
    },
    "tags": []
   },
   "outputs": [
    {
     "data": {
      "application/javascript": [
       "parent.postMessage({\"jupyterEvent\": \"custom.exercise_interaction\", \"data\": {\"interactionType\": 3, \"questionType\": 4, \"questionId\": \"3_CountEncodingEffectiveness\", \"learnToolsVersion\": \"0.3.4\", \"valueTowardsCompletion\": 0.0, \"failureMessage\": \"\", \"exceptionClass\": \"\", \"trace\": \"\", \"outcomeType\": 4}}, \"*\")"
      ],
      "text/plain": [
       "<IPython.core.display.Javascript object>"
      ]
     },
     "metadata": {},
     "output_type": "display_data"
    },
    {
     "data": {
      "text/markdown": [
       "<span style=\"color:#33cc99\">Solution:</span> \n",
       "    Rare values tend to have similar counts (with values like 1 or 2), so you can classify rare \n",
       "    values together at prediction time. Common values with large counts are unlikely to have \n",
       "    the same exact count as other values. So, the common/important values get their own \n",
       "    grouping.\n",
       "    "
      ],
      "text/plain": [
       "Solution: \n",
       "    Rare values tend to have similar counts (with values like 1 or 2), so you can classify rare \n",
       "    values together at prediction time. Common values with large counts are unlikely to have \n",
       "    the same exact count as other values. So, the common/important values get their own \n",
       "    grouping.\n",
       "    "
      ]
     },
     "metadata": {},
     "output_type": "display_data"
    }
   ],
   "source": [
    "# Check your answer (Run this code cell to receive credit!)\n",
    "q_3.solution()"
   ]
  },
  {
   "cell_type": "markdown",
   "metadata": {
    "papermill": {
     "duration": 0.026295,
     "end_time": "2021-01-30T04:26:17.660654",
     "exception": false,
     "start_time": "2021-01-30T04:26:17.634359",
     "status": "completed"
    },
    "tags": []
   },
   "source": [
    "### 4) Target encoding\n",
    "\n",
    "Here you'll try some supervised encodings that use the labels (the targets) to transform categorical features. The first one is target encoding. \n",
    "- Create the target encoder from the `category_encoders` library. \n",
    "- Then, learn the encodings from the training dataset, apply the encodings to all the datasets, and retrain the model."
   ]
  },
  {
   "cell_type": "code",
   "execution_count": 11,
   "metadata": {
    "execution": {
     "iopub.execute_input": "2021-01-30T04:26:17.752768Z",
     "iopub.status.busy": "2021-01-30T04:26:17.752068Z",
     "iopub.status.idle": "2021-01-30T04:26:27.436028Z",
     "shell.execute_reply": "2021-01-30T04:26:27.436489Z"
    },
    "papermill": {
     "duration": 9.749121,
     "end_time": "2021-01-30T04:26:27.436671",
     "exception": false,
     "start_time": "2021-01-30T04:26:17.687550",
     "status": "completed"
    },
    "tags": []
   },
   "outputs": [
    {
     "name": "stderr",
     "output_type": "stream",
     "text": [
      "/opt/conda/lib/python3.7/site-packages/category_encoders/utils.py:21: FutureWarning: is_categorical is deprecated and will be removed in a future version.  Use is_categorical_dtype instead\n",
      "  elif pd.api.types.is_categorical(cols):\n"
     ]
    },
    {
     "data": {
      "application/javascript": [
       "parent.postMessage({\"jupyterEvent\": \"custom.exercise_interaction\", \"data\": {\"outcomeType\": 1, \"valueTowardsCompletion\": 0.125, \"interactionType\": 1, \"questionType\": 1, \"questionId\": \"4_TargetEncodings\", \"learnToolsVersion\": \"0.3.4\", \"failureMessage\": \"\", \"exceptionClass\": \"\", \"trace\": \"\"}}, \"*\")"
      ],
      "text/plain": [
       "<IPython.core.display.Javascript object>"
      ]
     },
     "metadata": {},
     "output_type": "display_data"
    },
    {
     "data": {
      "text/markdown": [
       "<span style=\"color:#33cc33\">Correct</span>"
      ],
      "text/plain": [
       "Correct"
      ]
     },
     "metadata": {},
     "output_type": "display_data"
    }
   ],
   "source": [
    "# Create the target encoder. You can find this easily by using tab completion.\n",
    "# Start typing ce. the press Tab to bring up a list of classes and functions.\n",
    "target_enc = ce.TargetEncoder(cols=cat_features)\n",
    "\n",
    "# Learn encoding from the training set. Use the 'is_attributed' column as the target.\n",
    "target_enc.fit(train[cat_features], train['is_attributed'])\n",
    "\n",
    "# Apply encoding to the train and validation sets as new columns\n",
    "# Make sure to add `_target` as a suffix to the new columns\n",
    "train_encoded = train.join(target_enc.transform(train[cat_features]).add_suffix('_target'))\n",
    "valid_encoded = valid.join(target_enc.transform(valid[cat_features]).add_suffix('_target'))\n",
    "\n",
    "# Check your answer\n",
    "q_4.check()"
   ]
  },
  {
   "cell_type": "code",
   "execution_count": 12,
   "metadata": {
    "execution": {
     "iopub.execute_input": "2021-01-30T04:26:27.497355Z",
     "iopub.status.busy": "2021-01-30T04:26:27.496629Z",
     "iopub.status.idle": "2021-01-30T04:26:27.500086Z",
     "shell.execute_reply": "2021-01-30T04:26:27.500585Z"
    },
    "papermill": {
     "duration": 0.03572,
     "end_time": "2021-01-30T04:26:27.500780",
     "exception": false,
     "start_time": "2021-01-30T04:26:27.465060",
     "status": "completed"
    },
    "tags": []
   },
   "outputs": [],
   "source": [
    "# Uncomment these if you need some guidance\n",
    "#q_4.hint()\n",
    "#q_4.solution()"
   ]
  },
  {
   "cell_type": "markdown",
   "metadata": {
    "papermill": {
     "duration": 0.027628,
     "end_time": "2021-01-30T04:26:27.556290",
     "exception": false,
     "start_time": "2021-01-30T04:26:27.528662",
     "status": "completed"
    },
    "tags": []
   },
   "source": [
    "Run the next cell to see how target encoding affects your results."
   ]
  },
  {
   "cell_type": "code",
   "execution_count": 13,
   "metadata": {
    "execution": {
     "iopub.execute_input": "2021-01-30T04:26:27.616424Z",
     "iopub.status.busy": "2021-01-30T04:26:27.615764Z",
     "iopub.status.idle": "2021-01-30T04:26:35.149247Z",
     "shell.execute_reply": "2021-01-30T04:26:35.148279Z"
    },
    "papermill": {
     "duration": 7.565182,
     "end_time": "2021-01-30T04:26:35.149485",
     "exception": false,
     "start_time": "2021-01-30T04:26:27.584303",
     "status": "completed"
    },
    "tags": []
   },
   "outputs": [
    {
     "name": "stdout",
     "output_type": "stream",
     "text": [
      "[LightGBM] [Info] Number of positive: 363974, number of negative: 1476475\n",
      "[LightGBM] [Warning] Auto-choosing row-wise multi-threading, the overhead of testing was 0.094679 seconds.\n",
      "You can set `force_row_wise=true` to remove the overhead.\n",
      "And if memory is not enough, you can set `force_col_wise=true`.\n",
      "[LightGBM] [Info] Total Bins 1919\n",
      "[LightGBM] [Info] Number of data points in the train set: 1840449, number of used features: 14\n",
      "[LightGBM] [Info] [binary:BoostFromScore]: pavg=0.197764 -> initscore=-1.400330\n",
      "[LightGBM] [Info] Start training from score -1.400330\n",
      "Validation AUC score: 0.9540530347873288\n"
     ]
    }
   ],
   "source": [
    "_ = train_model(train_encoded, valid_encoded)"
   ]
  },
  {
   "cell_type": "markdown",
   "metadata": {
    "papermill": {
     "duration": 0.0299,
     "end_time": "2021-01-30T04:26:35.210368",
     "exception": false,
     "start_time": "2021-01-30T04:26:35.180468",
     "status": "completed"
    },
    "tags": []
   },
   "source": [
    "### 5) Try removing IP encoding\n",
    "\n",
    "If you leave `ip` out of the encoded features and retrain the model with target encoding, you should find that the score increases and is above the baseline score! Why do you think the score is below baseline when we encode the IP address but above baseline when we don't?\n",
    "\n",
    "Run the following line after you've decided your answer."
   ]
  },
  {
   "cell_type": "code",
   "execution_count": 14,
   "metadata": {
    "execution": {
     "iopub.execute_input": "2021-01-30T04:26:35.276354Z",
     "iopub.status.busy": "2021-01-30T04:26:35.275460Z",
     "iopub.status.idle": "2021-01-30T04:26:35.279946Z",
     "shell.execute_reply": "2021-01-30T04:26:35.280458Z"
    },
    "papermill": {
     "duration": 0.0405,
     "end_time": "2021-01-30T04:26:35.280667",
     "exception": false,
     "start_time": "2021-01-30T04:26:35.240167",
     "status": "completed"
    },
    "tags": []
   },
   "outputs": [
    {
     "data": {
      "application/javascript": [
       "parent.postMessage({\"jupyterEvent\": \"custom.exercise_interaction\", \"data\": {\"interactionType\": 3, \"questionType\": 4, \"questionId\": \"5_RemoveIPEncoding\", \"learnToolsVersion\": \"0.3.4\", \"valueTowardsCompletion\": 0.0, \"failureMessage\": \"\", \"exceptionClass\": \"\", \"trace\": \"\", \"outcomeType\": 4}}, \"*\")"
      ],
      "text/plain": [
       "<IPython.core.display.Javascript object>"
      ]
     },
     "metadata": {},
     "output_type": "display_data"
    },
    {
     "data": {
      "text/markdown": [
       "<span style=\"color:#33cc99\">Solution:</span> \n",
       "    Target encoding attempts to measure the population mean of the target for each \n",
       "    level in a categorical feature. This means when there is less data per level, the \n",
       "    estimated mean will be further away from the \"true\" mean, there will be more variance. \n",
       "    There is little data per IP address so it's likely that the estimates are much noisier\n",
       "    than for the other features. The model will rely heavily on this feature since it is \n",
       "    extremely predictive. This causes it to make fewer splits on other features, and those\n",
       "    features are fit on just the errors left over accounting for IP address. So, the \n",
       "    model will perform very poorly when seeing new IP addresses that weren't in the \n",
       "    training data (which is likely most new data). Going forward, we'll leave out the IP feature when trying\n",
       "    different encodings.\n",
       "    "
      ],
      "text/plain": [
       "Solution: \n",
       "    Target encoding attempts to measure the population mean of the target for each \n",
       "    level in a categorical feature. This means when there is less data per level, the \n",
       "    estimated mean will be further away from the \"true\" mean, there will be more variance. \n",
       "    There is little data per IP address so it's likely that the estimates are much noisier\n",
       "    than for the other features. The model will rely heavily on this feature since it is \n",
       "    extremely predictive. This causes it to make fewer splits on other features, and those\n",
       "    features are fit on just the errors left over accounting for IP address. So, the \n",
       "    model will perform very poorly when seeing new IP addresses that weren't in the \n",
       "    training data (which is likely most new data). Going forward, we'll leave out the IP feature when trying\n",
       "    different encodings.\n",
       "    "
      ]
     },
     "metadata": {},
     "output_type": "display_data"
    }
   ],
   "source": [
    "# Check your answer (Run this code cell to receive credit!)\n",
    "q_5.solution()"
   ]
  },
  {
   "cell_type": "markdown",
   "metadata": {
    "papermill": {
     "duration": 0.03106,
     "end_time": "2021-01-30T04:26:35.343689",
     "exception": false,
     "start_time": "2021-01-30T04:26:35.312629",
     "status": "completed"
    },
    "tags": []
   },
   "source": [
    "### 6) CatBoost Encoding\n",
    "\n",
    "The CatBoost encoder is supposed to work well with the LightGBM model. Encode the categorical features with `CatBoostEncoder` and train the model on the encoded data again."
   ]
  },
  {
   "cell_type": "code",
   "execution_count": 15,
   "metadata": {
    "execution": {
     "iopub.execute_input": "2021-01-30T04:26:35.410184Z",
     "iopub.status.busy": "2021-01-30T04:26:35.409425Z",
     "iopub.status.idle": "2021-01-30T04:27:00.294231Z",
     "shell.execute_reply": "2021-01-30T04:27:00.293678Z"
    },
    "papermill": {
     "duration": 24.919283,
     "end_time": "2021-01-30T04:27:00.294387",
     "exception": false,
     "start_time": "2021-01-30T04:26:35.375104",
     "status": "completed"
    },
    "tags": []
   },
   "outputs": [
    {
     "name": "stderr",
     "output_type": "stream",
     "text": [
      "/opt/conda/lib/python3.7/site-packages/category_encoders/utils.py:21: FutureWarning: is_categorical is deprecated and will be removed in a future version.  Use is_categorical_dtype instead\n",
      "  elif pd.api.types.is_categorical(cols):\n",
      "/opt/conda/lib/python3.7/site-packages/category_encoders/utils.py:21: FutureWarning: is_categorical is deprecated and will be removed in a future version.  Use is_categorical_dtype instead\n",
      "  elif pd.api.types.is_categorical(cols):\n"
     ]
    },
    {
     "data": {
      "application/javascript": [
       "parent.postMessage({\"jupyterEvent\": \"custom.exercise_interaction\", \"data\": {\"outcomeType\": 1, \"valueTowardsCompletion\": 0.125, \"interactionType\": 1, \"questionType\": 1, \"questionId\": \"6_CatBoostEncodings\", \"learnToolsVersion\": \"0.3.4\", \"failureMessage\": \"\", \"exceptionClass\": \"\", \"trace\": \"\"}}, \"*\")"
      ],
      "text/plain": [
       "<IPython.core.display.Javascript object>"
      ]
     },
     "metadata": {},
     "output_type": "display_data"
    },
    {
     "data": {
      "text/markdown": [
       "<span style=\"color:#33cc33\">Correct</span>"
      ],
      "text/plain": [
       "Correct"
      ]
     },
     "metadata": {},
     "output_type": "display_data"
    }
   ],
   "source": [
    "# Remove IP from the encoded features\n",
    "cat_features = ['app', 'device', 'os', 'channel']\n",
    "train, valid, test = get_data_splits(clicks)\n",
    "# Create the CatBoost encoder\n",
    "cat_en = ce.CatBoostEncoder(cols=cat_features, random_state=7)\n",
    "cat_en.fit(train[cat_features], train['is_attributed'])\n",
    "\n",
    "# Learn encoding from the training set\n",
    "cat_en.fit(train[cat_features], train['is_attributed'])\n",
    "\n",
    "# Apply encoding to the train and validation sets as new columns\n",
    "# Make sure to add `_cb` as a suffix to the new columns\n",
    "train_encoded = train.join(cat_en.transform(train[cat_features]).add_suffix('_cb'))\n",
    "valid_encoded = valid.join(cat_en.transform(valid[cat_features]).add_suffix('_cb'))\n",
    "\n",
    "# Check your answer\n",
    "q_6.check()"
   ]
  },
  {
   "cell_type": "code",
   "execution_count": 16,
   "metadata": {
    "execution": {
     "iopub.execute_input": "2021-01-30T04:27:00.364960Z",
     "iopub.status.busy": "2021-01-30T04:27:00.364272Z",
     "iopub.status.idle": "2021-01-30T04:27:00.367929Z",
     "shell.execute_reply": "2021-01-30T04:27:00.367362Z"
    },
    "papermill": {
     "duration": 0.041161,
     "end_time": "2021-01-30T04:27:00.368078",
     "exception": false,
     "start_time": "2021-01-30T04:27:00.326917",
     "status": "completed"
    },
    "tags": []
   },
   "outputs": [],
   "source": [
    "# Uncomment these if you need some guidance\n",
    "#q_6.hint()\n",
    "#q_6.solution()"
   ]
  },
  {
   "cell_type": "markdown",
   "metadata": {
    "papermill": {
     "duration": 0.032208,
     "end_time": "2021-01-30T04:27:00.432700",
     "exception": false,
     "start_time": "2021-01-30T04:27:00.400492",
     "status": "completed"
    },
    "tags": []
   },
   "source": [
    "Run the next code cell to see how the CatBoost encoder changes your results."
   ]
  },
  {
   "cell_type": "code",
   "execution_count": 17,
   "metadata": {
    "execution": {
     "iopub.execute_input": "2021-01-30T04:27:00.501464Z",
     "iopub.status.busy": "2021-01-30T04:27:00.500809Z",
     "iopub.status.idle": "2021-01-30T04:27:28.457366Z",
     "shell.execute_reply": "2021-01-30T04:27:28.456579Z"
    },
    "papermill": {
     "duration": 27.992454,
     "end_time": "2021-01-30T04:27:28.457539",
     "exception": false,
     "start_time": "2021-01-30T04:27:00.465085",
     "status": "completed"
    },
    "tags": []
   },
   "outputs": [
    {
     "name": "stdout",
     "output_type": "stream",
     "text": [
      "[LightGBM] [Info] Number of positive: 363974, number of negative: 1476475\n",
      "[LightGBM] [Warning] Auto-choosing row-wise multi-threading, the overhead of testing was 0.110831 seconds.\n",
      "You can set `force_row_wise=true` to remove the overhead.\n",
      "And if memory is not enough, you can set `force_col_wise=true`.\n",
      "[LightGBM] [Info] Total Bins 1731\n",
      "[LightGBM] [Info] Number of data points in the train set: 1840449, number of used features: 13\n",
      "[LightGBM] [Info] [binary:BoostFromScore]: pavg=0.197764 -> initscore=-1.400330\n",
      "[LightGBM] [Info] Start training from score -1.400330\n",
      "Validation AUC score: 0.9628259061746094\n"
     ]
    }
   ],
   "source": [
    "_ = train_model(train_encoded, valid_encoded)"
   ]
  },
  {
   "cell_type": "markdown",
   "metadata": {
    "papermill": {
     "duration": 0.033365,
     "end_time": "2021-01-30T04:27:28.524926",
     "exception": false,
     "start_time": "2021-01-30T04:27:28.491561",
     "status": "completed"
    },
    "tags": []
   },
   "source": [
    "# Keep Going\n",
    "\n",
    "Now you are ready to **[generate completely new features](https://www.kaggle.com/matleonard/feature-generation)** from the data."
   ]
  },
  {
   "cell_type": "markdown",
   "metadata": {
    "papermill": {
     "duration": 0.033892,
     "end_time": "2021-01-30T04:27:28.592143",
     "exception": false,
     "start_time": "2021-01-30T04:27:28.558251",
     "status": "completed"
    },
    "tags": []
   },
   "source": [
    "---\n",
    "\n",
    "\n",
    "\n",
    "\n",
    "*Have questions or comments? Visit the [Learn Discussion forum](https://www.kaggle.com/learn-forum/161443) to chat with other Learners.*"
   ]
  }
 ],
 "metadata": {
  "kernelspec": {
   "display_name": "Python 3",
   "language": "python",
   "name": "python3"
  },
  "language_info": {
   "codemirror_mode": {
    "name": "ipython",
    "version": 3
   },
   "file_extension": ".py",
   "mimetype": "text/x-python",
   "name": "python",
   "nbconvert_exporter": "python",
   "pygments_lexer": "ipython3",
   "version": "3.7.9"
  },
  "papermill": {
   "default_parameters": {},
   "duration": 188.976183,
   "end_time": "2021-01-30T04:27:30.687023",
   "environment_variables": {},
   "exception": null,
   "input_path": "__notebook__.ipynb",
   "output_path": "__notebook__.ipynb",
   "parameters": {},
   "start_time": "2021-01-30T04:24:21.710840",
   "version": "2.2.2"
  }
 },
 "nbformat": 4,
 "nbformat_minor": 4
}
