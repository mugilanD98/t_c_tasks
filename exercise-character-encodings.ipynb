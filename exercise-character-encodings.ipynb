{
 "cells": [
  {
   "cell_type": "markdown",
   "metadata": {
    "papermill": {
     "duration": 0.014188,
     "end_time": "2021-01-19T11:10:53.651947",
     "exception": false,
     "start_time": "2021-01-19T11:10:53.637759",
     "status": "completed"
    },
    "tags": []
   },
   "source": [
    "**This notebook is an exercise in the [Data Cleaning](https://www.kaggle.com/learn/data-cleaning) course.  You can reference the tutorial at [this link](https://www.kaggle.com/alexisbcook/character-encodings).**\n",
    "\n",
    "---\n"
   ]
  },
  {
   "cell_type": "markdown",
   "metadata": {
    "papermill": {
     "duration": 0.01159,
     "end_time": "2021-01-19T11:10:53.675539",
     "exception": false,
     "start_time": "2021-01-19T11:10:53.663949",
     "status": "completed"
    },
    "tags": []
   },
   "source": [
    "In this exercise, you'll apply what you learned in the **Character encodings** tutorial.\n",
    "\n",
    "# Setup\n",
    "\n",
    "The questions below will give you feedback on your work. Run the following cell to set up the feedback system."
   ]
  },
  {
   "cell_type": "code",
   "execution_count": 1,
   "metadata": {
    "execution": {
     "iopub.execute_input": "2021-01-19T11:10:53.705920Z",
     "iopub.status.busy": "2021-01-19T11:10:53.705252Z",
     "iopub.status.idle": "2021-01-19T11:10:53.829896Z",
     "shell.execute_reply": "2021-01-19T11:10:53.828983Z"
    },
    "papermill": {
     "duration": 0.142756,
     "end_time": "2021-01-19T11:10:53.830029",
     "exception": false,
     "start_time": "2021-01-19T11:10:53.687273",
     "status": "completed"
    },
    "tags": []
   },
   "outputs": [
    {
     "name": "stdout",
     "output_type": "stream",
     "text": [
      "Setup Complete\n"
     ]
    }
   ],
   "source": [
    "from learntools.core import binder\n",
    "binder.bind(globals())\n",
    "from learntools.data_cleaning.ex4 import *\n",
    "print(\"Setup Complete\")"
   ]
  },
  {
   "cell_type": "markdown",
   "metadata": {
    "papermill": {
     "duration": 0.018317,
     "end_time": "2021-01-19T11:10:53.867636",
     "exception": false,
     "start_time": "2021-01-19T11:10:53.849319",
     "status": "completed"
    },
    "tags": []
   },
   "source": [
    "# Get our environment set up\n",
    "\n",
    "The first thing we'll need to do is load in the libraries we'll be using."
   ]
  },
  {
   "cell_type": "code",
   "execution_count": 2,
   "metadata": {
    "execution": {
     "iopub.execute_input": "2021-01-19T11:10:53.912699Z",
     "iopub.status.busy": "2021-01-19T11:10:53.911980Z",
     "iopub.status.idle": "2021-01-19T11:10:53.916157Z",
     "shell.execute_reply": "2021-01-19T11:10:53.915502Z"
    },
    "papermill": {
     "duration": 0.030106,
     "end_time": "2021-01-19T11:10:53.916268",
     "exception": false,
     "start_time": "2021-01-19T11:10:53.886162",
     "status": "completed"
    },
    "tags": []
   },
   "outputs": [],
   "source": [
    "# modules we'll use\n",
    "import pandas as pd\n",
    "import numpy as np\n",
    "\n",
    "# helpful character encoding module\n",
    "import chardet\n",
    "\n",
    "# set seed for reproducibility\n",
    "np.random.seed(0)"
   ]
  },
  {
   "cell_type": "markdown",
   "metadata": {
    "papermill": {
     "duration": 0.01261,
     "end_time": "2021-01-19T11:10:53.941687",
     "exception": false,
     "start_time": "2021-01-19T11:10:53.929077",
     "status": "completed"
    },
    "tags": []
   },
   "source": [
    "# 1) What are encodings?\n",
    "\n",
    "You're working with a dataset composed of bytes.  Run the code cell below to print a sample entry."
   ]
  },
  {
   "cell_type": "code",
   "execution_count": 3,
   "metadata": {
    "execution": {
     "iopub.execute_input": "2021-01-19T11:10:53.974400Z",
     "iopub.status.busy": "2021-01-19T11:10:53.973668Z",
     "iopub.status.idle": "2021-01-19T11:10:53.980127Z",
     "shell.execute_reply": "2021-01-19T11:10:53.979557Z"
    },
    "papermill": {
     "duration": 0.025763,
     "end_time": "2021-01-19T11:10:53.980255",
     "exception": false,
     "start_time": "2021-01-19T11:10:53.954492",
     "status": "completed"
    },
    "tags": []
   },
   "outputs": [
    {
     "name": "stdout",
     "output_type": "stream",
     "text": [
      "b'\\xa7A\\xa6n'\n",
      "data type: <class 'bytes'>\n"
     ]
    }
   ],
   "source": [
    "sample_entry = b'\\xa7A\\xa6n'\n",
    "print(sample_entry)\n",
    "print('data type:', type(sample_entry))"
   ]
  },
  {
   "cell_type": "markdown",
   "metadata": {
    "papermill": {
     "duration": 0.018465,
     "end_time": "2021-01-19T11:10:54.012074",
     "exception": false,
     "start_time": "2021-01-19T11:10:53.993609",
     "status": "completed"
    },
    "tags": []
   },
   "source": [
    "You notice that it doesn't use the standard UTF-8 encoding. \n",
    "\n",
    "Use the next code cell to create a variable `new_entry` that changes the encoding from `\"big5-tw\"` to `\"utf-8\"`.  `new_entry` should have the bytes datatype."
   ]
  },
  {
   "cell_type": "code",
   "execution_count": 4,
   "metadata": {
    "execution": {
     "iopub.execute_input": "2021-01-19T11:10:54.055824Z",
     "iopub.status.busy": "2021-01-19T11:10:54.052377Z",
     "iopub.status.idle": "2021-01-19T11:10:54.065853Z",
     "shell.execute_reply": "2021-01-19T11:10:54.065205Z"
    },
    "papermill": {
     "duration": 0.034867,
     "end_time": "2021-01-19T11:10:54.065975",
     "exception": false,
     "start_time": "2021-01-19T11:10:54.031108",
     "status": "completed"
    },
    "tags": []
   },
   "outputs": [
    {
     "data": {
      "application/javascript": [
       "parent.postMessage({\"jupyterEvent\": \"custom.exercise_interaction\", \"data\": {\"outcomeType\": 1, \"valueTowardsCompletion\": 0.3333333333333333, \"interactionType\": 1, \"questionType\": 1, \"questionId\": \"1_EncodingsIntro\", \"learnToolsVersion\": \"0.3.4\", \"failureMessage\": \"\", \"exceptionClass\": \"\", \"trace\": \"\"}}, \"*\")"
      ],
      "text/plain": [
       "<IPython.core.display.Javascript object>"
      ]
     },
     "metadata": {},
     "output_type": "display_data"
    },
    {
     "data": {
      "text/markdown": [
       "<span style=\"color:#33cc33\">Correct</span>"
      ],
      "text/plain": [
       "Correct"
      ]
     },
     "metadata": {},
     "output_type": "display_data"
    }
   ],
   "source": [
    "de=sample_entry.decode(\"big5-tw\")\n",
    "new_entry = de.encode(\"utf-8\",errors=\"replace\");\n",
    "type(new_entry)\n",
    "# Check your answer\n",
    "q1.check()"
   ]
  },
  {
   "cell_type": "code",
   "execution_count": 5,
   "metadata": {
    "execution": {
     "iopub.execute_input": "2021-01-19T11:10:54.113336Z",
     "iopub.status.busy": "2021-01-19T11:10:54.112509Z",
     "iopub.status.idle": "2021-01-19T11:10:54.116702Z",
     "shell.execute_reply": "2021-01-19T11:10:54.114835Z"
    },
    "papermill": {
     "duration": 0.031013,
     "end_time": "2021-01-19T11:10:54.117318",
     "exception": false,
     "start_time": "2021-01-19T11:10:54.086305",
     "status": "completed"
    },
    "tags": []
   },
   "outputs": [],
   "source": [
    "# Lines below will give you a hint or solution code\n",
    "#q1.hint()\n",
    "#q1.solution()"
   ]
  },
  {
   "cell_type": "markdown",
   "metadata": {
    "papermill": {
     "duration": 0.018566,
     "end_time": "2021-01-19T11:10:54.156470",
     "exception": false,
     "start_time": "2021-01-19T11:10:54.137904",
     "status": "completed"
    },
    "tags": []
   },
   "source": [
    "# 2) Reading in files with encoding problems\n",
    "\n",
    "Use the code cell below to read in this file at path `\"../input/fatal-police-shootings-in-the-us/PoliceKillingsUS.csv\"`.  \n",
    "\n",
    "Figure out what the correct encoding should be and read in the file to a DataFrame `police_killings`."
   ]
  },
  {
   "cell_type": "code",
   "execution_count": 6,
   "metadata": {
    "execution": {
     "iopub.execute_input": "2021-01-19T11:10:54.198982Z",
     "iopub.status.busy": "2021-01-19T11:10:54.198248Z",
     "iopub.status.idle": "2021-01-19T11:10:54.234951Z",
     "shell.execute_reply": "2021-01-19T11:10:54.234250Z"
    },
    "papermill": {
     "duration": 0.057608,
     "end_time": "2021-01-19T11:10:54.235207",
     "exception": false,
     "start_time": "2021-01-19T11:10:54.177599",
     "status": "completed"
    },
    "tags": []
   },
   "outputs": [
    {
     "data": {
      "application/javascript": [
       "parent.postMessage({\"jupyterEvent\": \"custom.exercise_interaction\", \"data\": {\"outcomeType\": 1, \"valueTowardsCompletion\": 0.3333333333333333, \"interactionType\": 1, \"questionType\": 1, \"questionId\": \"2_ReadIn\", \"learnToolsVersion\": \"0.3.4\", \"failureMessage\": \"\", \"exceptionClass\": \"\", \"trace\": \"\"}}, \"*\")"
      ],
      "text/plain": [
       "<IPython.core.display.Javascript object>"
      ]
     },
     "metadata": {},
     "output_type": "display_data"
    },
    {
     "data": {
      "text/markdown": [
       "<span style=\"color:#33cc33\">Correct</span>"
      ],
      "text/plain": [
       "Correct"
      ]
     },
     "metadata": {},
     "output_type": "display_data"
    }
   ],
   "source": [
    "# TODO: Load in the DataFrame correctly.\n",
    "police_killings = pd.read_csv(\"../input/fatal-police-shootings-in-the-us/PoliceKillingsUS.csv\", encoding='Windows-1252')\n",
    "\n",
    "# Check your answer\n",
    "q2.check()"
   ]
  },
  {
   "cell_type": "markdown",
   "metadata": {
    "papermill": {
     "duration": 0.015536,
     "end_time": "2021-01-19T11:10:54.267786",
     "exception": false,
     "start_time": "2021-01-19T11:10:54.252250",
     "status": "completed"
    },
    "tags": []
   },
   "source": [
    "Feel free to use any additional code cells for supplemental work.  To get credit for finishing this question, you'll need to run `q2.check()` and get a result of **Correct**."
   ]
  },
  {
   "cell_type": "code",
   "execution_count": 7,
   "metadata": {
    "execution": {
     "iopub.execute_input": "2021-01-19T11:10:54.304969Z",
     "iopub.status.busy": "2021-01-19T11:10:54.304313Z",
     "iopub.status.idle": "2021-01-19T11:10:54.307927Z",
     "shell.execute_reply": "2021-01-19T11:10:54.307301Z"
    },
    "papermill": {
     "duration": 0.023716,
     "end_time": "2021-01-19T11:10:54.308037",
     "exception": false,
     "start_time": "2021-01-19T11:10:54.284321",
     "status": "completed"
    },
    "tags": []
   },
   "outputs": [],
   "source": [
    "# (Optional) Use this code cell for any additional work."
   ]
  },
  {
   "cell_type": "code",
   "execution_count": 8,
   "metadata": {
    "execution": {
     "iopub.execute_input": "2021-01-19T11:10:54.343711Z",
     "iopub.status.busy": "2021-01-19T11:10:54.342970Z",
     "iopub.status.idle": "2021-01-19T11:10:54.346141Z",
     "shell.execute_reply": "2021-01-19T11:10:54.346916Z"
    },
    "papermill": {
     "duration": 0.023447,
     "end_time": "2021-01-19T11:10:54.347081",
     "exception": false,
     "start_time": "2021-01-19T11:10:54.323634",
     "status": "completed"
    },
    "tags": []
   },
   "outputs": [],
   "source": [
    "# Lines below will give you a hint or solution code\n",
    "#q2.hint()\n",
    "#q2.solution()"
   ]
  },
  {
   "cell_type": "markdown",
   "metadata": {
    "papermill": {
     "duration": 0.015674,
     "end_time": "2021-01-19T11:10:54.379117",
     "exception": false,
     "start_time": "2021-01-19T11:10:54.363443",
     "status": "completed"
    },
    "tags": []
   },
   "source": [
    "# 3) Saving your files with UTF-8 encoding\n",
    "\n",
    "Save a version of the police killings dataset to CSV with UTF-8 encoding.  Your answer will be marked correct after saving this file.  \n",
    "\n",
    "Note: When using the `to_csv()` method, supply only the name of the file (e.g., `\"my_file.csv\"`).  This saves the file at the filepath `\"/kaggle/working/my_file.csv\"`."
   ]
  },
  {
   "cell_type": "code",
   "execution_count": 9,
   "metadata": {
    "execution": {
     "iopub.execute_input": "2021-01-19T11:10:54.416016Z",
     "iopub.status.busy": "2021-01-19T11:10:54.415303Z",
     "iopub.status.idle": "2021-01-19T11:10:54.986493Z",
     "shell.execute_reply": "2021-01-19T11:10:54.987251Z"
    },
    "papermill": {
     "duration": 0.591591,
     "end_time": "2021-01-19T11:10:54.987428",
     "exception": false,
     "start_time": "2021-01-19T11:10:54.395837",
     "status": "completed"
    },
    "tags": []
   },
   "outputs": [
    {
     "data": {
      "application/javascript": [
       "parent.postMessage({\"jupyterEvent\": \"custom.exercise_interaction\", \"data\": {\"outcomeType\": 1, \"valueTowardsCompletion\": 0.3333333333333333, \"interactionType\": 1, \"questionType\": 2, \"questionId\": \"3_SaveCSV\", \"learnToolsVersion\": \"0.3.4\", \"failureMessage\": \"\", \"exceptionClass\": \"\", \"trace\": \"\"}}, \"*\")"
      ],
      "text/plain": [
       "<IPython.core.display.Javascript object>"
      ]
     },
     "metadata": {},
     "output_type": "display_data"
    },
    {
     "data": {
      "text/markdown": [
       "<span style=\"color:#33cc33\">Correct</span>"
      ],
      "text/plain": [
       "Correct"
      ]
     },
     "metadata": {},
     "output_type": "display_data"
    }
   ],
   "source": [
    "# TODO: Save the police killings dataset to CSV\n",
    "police_killings.to_csv(\"/kaggle/working/my_file.csv\")\n",
    "\n",
    "# Check your answer\n",
    "q3.check()"
   ]
  },
  {
   "cell_type": "code",
   "execution_count": 10,
   "metadata": {
    "execution": {
     "iopub.execute_input": "2021-01-19T11:10:55.031149Z",
     "iopub.status.busy": "2021-01-19T11:10:55.030451Z",
     "iopub.status.idle": "2021-01-19T11:10:55.035765Z",
     "shell.execute_reply": "2021-01-19T11:10:55.035127Z"
    },
    "papermill": {
     "duration": 0.028451,
     "end_time": "2021-01-19T11:10:55.035885",
     "exception": false,
     "start_time": "2021-01-19T11:10:55.007434",
     "status": "completed"
    },
    "tags": []
   },
   "outputs": [],
   "source": [
    "# Lines below will give you a hint or solution code\n",
    "#q3.hint()\n",
    "#q3.solution()"
   ]
  },
  {
   "cell_type": "markdown",
   "metadata": {
    "papermill": {
     "duration": 0.018616,
     "end_time": "2021-01-19T11:10:55.072585",
     "exception": false,
     "start_time": "2021-01-19T11:10:55.053969",
     "status": "completed"
    },
    "tags": []
   },
   "source": [
    "# (Optional) More practice\n",
    "\n",
    "Check out [this dataset of files in different character encodings](https://www.kaggle.com/rtatman/character-encoding-examples). Can you read in all the files with their original encodings and them save them out as UTF-8 files?\n",
    "\n",
    "If you have a file that's in UTF-8 but has just a couple of weird-looking characters in it, you can try out the [ftfy module](https://ftfy.readthedocs.io/en/latest/#) and see if it helps. \n",
    "\n",
    "# Keep going\n",
    "\n",
    "In the final lesson, learn how to [**clean up inconsistent text entries**](https://www.kaggle.com/alexisbcook/inconsistent-data-entry) in your dataset."
   ]
  },
  {
   "cell_type": "markdown",
   "metadata": {
    "papermill": {
     "duration": 0.017044,
     "end_time": "2021-01-19T11:10:55.107312",
     "exception": false,
     "start_time": "2021-01-19T11:10:55.090268",
     "status": "completed"
    },
    "tags": []
   },
   "source": [
    "---\n",
    "\n",
    "\n",
    "\n",
    "\n",
    "*Have questions or comments? Visit the [Learn Discussion forum](https://www.kaggle.com/learn-forum/172650) to chat with other Learners.*"
   ]
  }
 ],
 "metadata": {
  "kernelspec": {
   "display_name": "Python 3",
   "language": "python",
   "name": "python3"
  },
  "language_info": {
   "codemirror_mode": {
    "name": "ipython",
    "version": 3
   },
   "file_extension": ".py",
   "mimetype": "text/x-python",
   "name": "python",
   "nbconvert_exporter": "python",
   "pygments_lexer": "ipython3",
   "version": "3.7.6"
  },
  "papermill": {
   "duration": 8.668006,
   "end_time": "2021-01-19T11:10:55.234896",
   "environment_variables": {},
   "exception": null,
   "input_path": "__notebook__.ipynb",
   "output_path": "__notebook__.ipynb",
   "parameters": {},
   "start_time": "2021-01-19T11:10:46.566890",
   "version": "2.1.0"
  }
 },
 "nbformat": 4,
 "nbformat_minor": 4
}
