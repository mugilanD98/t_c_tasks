{
 "cells": [
  {
   "cell_type": "markdown",
   "metadata": {
    "papermill": {
     "duration": 0.01586,
     "end_time": "2021-01-25T10:09:42.548509",
     "exception": false,
     "start_time": "2021-01-25T10:09:42.532649",
     "status": "completed"
    },
    "tags": []
   },
   "source": [
    "**This notebook is an exercise in the [Introduction to Machine Learning](https://www.kaggle.com/learn/intro-to-machine-learning) course.  You can reference the tutorial at [this link](https://www.kaggle.com/dansbecker/your-first-machine-learning-model).**\n",
    "\n",
    "---\n"
   ]
  },
  {
   "cell_type": "markdown",
   "metadata": {
    "papermill": {
     "duration": 0.012588,
     "end_time": "2021-01-25T10:09:42.574721",
     "exception": false,
     "start_time": "2021-01-25T10:09:42.562133",
     "status": "completed"
    },
    "tags": []
   },
   "source": [
    "## Recap\n",
    "So far, you have loaded your data and reviewed it with the following code. Run this cell to set up your coding environment where the previous step left off."
   ]
  },
  {
   "cell_type": "code",
   "execution_count": 1,
   "metadata": {
    "execution": {
     "iopub.execute_input": "2021-01-25T10:09:42.609137Z",
     "iopub.status.busy": "2021-01-25T10:09:42.608473Z",
     "iopub.status.idle": "2021-01-25T10:09:43.899538Z",
     "shell.execute_reply": "2021-01-25T10:09:43.900030Z"
    },
    "papermill": {
     "duration": 1.312587,
     "end_time": "2021-01-25T10:09:43.900199",
     "exception": false,
     "start_time": "2021-01-25T10:09:42.587612",
     "status": "completed"
    },
    "tags": []
   },
   "outputs": [
    {
     "name": "stdout",
     "output_type": "stream",
     "text": [
      "Setup Complete\n"
     ]
    }
   ],
   "source": [
    "# Code you have previously used to load data\n",
    "import pandas as pd\n",
    "\n",
    "# Path of the file to read\n",
    "iowa_file_path = '../input/home-data-for-ml-course/train.csv'\n",
    "\n",
    "home_data = pd.read_csv(iowa_file_path)\n",
    "\n",
    "# Set up code checking\n",
    "from learntools.core import binder\n",
    "binder.bind(globals())\n",
    "from learntools.machine_learning.ex3 import *\n",
    "\n",
    "print(\"Setup Complete\")"
   ]
  },
  {
   "cell_type": "markdown",
   "metadata": {
    "papermill": {
     "duration": 0.013461,
     "end_time": "2021-01-25T10:09:43.927968",
     "exception": false,
     "start_time": "2021-01-25T10:09:43.914507",
     "status": "completed"
    },
    "tags": []
   },
   "source": [
    "# Exercises\n",
    "\n",
    "## Step 1: Specify Prediction Target\n",
    "Select the target variable, which corresponds to the sales price. Save this to a new variable called `y`. You'll need to print a list of the columns to find the name of the column you need.\n"
   ]
  },
  {
   "cell_type": "code",
   "execution_count": 2,
   "metadata": {
    "execution": {
     "iopub.execute_input": "2021-01-25T10:09:43.960025Z",
     "iopub.status.busy": "2021-01-25T10:09:43.959253Z",
     "iopub.status.idle": "2021-01-25T10:09:43.962962Z",
     "shell.execute_reply": "2021-01-25T10:09:43.962299Z"
    },
    "papermill": {
     "duration": 0.021416,
     "end_time": "2021-01-25T10:09:43.963073",
     "exception": false,
     "start_time": "2021-01-25T10:09:43.941657",
     "status": "completed"
    },
    "tags": []
   },
   "outputs": [],
   "source": [
    "# print the list of columns in the dataset to find the name of the prediction target\n"
   ]
  },
  {
   "cell_type": "code",
   "execution_count": 3,
   "metadata": {
    "execution": {
     "iopub.execute_input": "2021-01-25T10:09:44.002887Z",
     "iopub.status.busy": "2021-01-25T10:09:44.002198Z",
     "iopub.status.idle": "2021-01-25T10:09:44.007932Z",
     "shell.execute_reply": "2021-01-25T10:09:44.007270Z"
    },
    "papermill": {
     "duration": 0.031101,
     "end_time": "2021-01-25T10:09:44.008039",
     "exception": false,
     "start_time": "2021-01-25T10:09:43.976938",
     "status": "completed"
    },
    "tags": []
   },
   "outputs": [
    {
     "data": {
      "application/javascript": [
       "parent.postMessage({\"jupyterEvent\": \"custom.exercise_interaction\", \"data\": {\"outcomeType\": 1, \"valueTowardsCompletion\": 0.25, \"interactionType\": 1, \"questionType\": 2, \"questionId\": \"1_SetTarget\", \"learnToolsVersion\": \"0.3.4\", \"failureMessage\": \"\", \"exceptionClass\": \"\", \"trace\": \"\"}}, \"*\")"
      ],
      "text/plain": [
       "<IPython.core.display.Javascript object>"
      ]
     },
     "metadata": {},
     "output_type": "display_data"
    },
    {
     "data": {
      "text/markdown": [
       "<span style=\"color:#33cc33\">Correct</span>"
      ],
      "text/plain": [
       "Correct"
      ]
     },
     "metadata": {},
     "output_type": "display_data"
    }
   ],
   "source": [
    "y = home_data['SalePrice']\n",
    "\n",
    "# Check your answer\n",
    "step_1.check()"
   ]
  },
  {
   "cell_type": "code",
   "execution_count": 4,
   "metadata": {
    "execution": {
     "iopub.execute_input": "2021-01-25T10:09:44.041840Z",
     "iopub.status.busy": "2021-01-25T10:09:44.041204Z",
     "iopub.status.idle": "2021-01-25T10:09:44.044469Z",
     "shell.execute_reply": "2021-01-25T10:09:44.044989Z"
    },
    "papermill": {
     "duration": 0.021829,
     "end_time": "2021-01-25T10:09:44.045122",
     "exception": false,
     "start_time": "2021-01-25T10:09:44.023293",
     "status": "completed"
    },
    "tags": []
   },
   "outputs": [],
   "source": [
    "# The lines below will show you a hint or the solution.\n",
    "# step_1.hint() \n",
    "# step_1.solution()"
   ]
  },
  {
   "cell_type": "markdown",
   "metadata": {
    "papermill": {
     "duration": 0.014948,
     "end_time": "2021-01-25T10:09:44.075143",
     "exception": false,
     "start_time": "2021-01-25T10:09:44.060195",
     "status": "completed"
    },
    "tags": []
   },
   "source": [
    "## Step 2: Create X\n",
    "Now you will create a DataFrame called `X` holding the predictive features.\n",
    "\n",
    "Since you want only some columns from the original data, you'll first create a list with the names of the columns you want in `X`.\n",
    "\n",
    "You'll use just the following columns in the list (you can copy and paste the whole list to save some typing, though you'll still need to add quotes):\n",
    "    * LotArea\n",
    "    * YearBuilt\n",
    "    * 1stFlrSF\n",
    "    * 2ndFlrSF\n",
    "    * FullBath\n",
    "    * BedroomAbvGr\n",
    "    * TotRmsAbvGrd\n",
    "\n",
    "After you've created that list of features, use it to create the DataFrame that you'll use to fit the model."
   ]
  },
  {
   "cell_type": "code",
   "execution_count": 5,
   "metadata": {
    "execution": {
     "iopub.execute_input": "2021-01-25T10:09:44.108858Z",
     "iopub.status.busy": "2021-01-25T10:09:44.108199Z",
     "iopub.status.idle": "2021-01-25T10:09:44.118483Z",
     "shell.execute_reply": "2021-01-25T10:09:44.117911Z"
    },
    "papermill": {
     "duration": 0.028412,
     "end_time": "2021-01-25T10:09:44.118597",
     "exception": false,
     "start_time": "2021-01-25T10:09:44.090185",
     "status": "completed"
    },
    "tags": []
   },
   "outputs": [
    {
     "data": {
      "application/javascript": [
       "parent.postMessage({\"jupyterEvent\": \"custom.exercise_interaction\", \"data\": {\"outcomeType\": 1, \"valueTowardsCompletion\": 0.25, \"interactionType\": 1, \"questionType\": 2, \"questionId\": \"2_SelectPredictionData\", \"learnToolsVersion\": \"0.3.4\", \"failureMessage\": \"\", \"exceptionClass\": \"\", \"trace\": \"\"}}, \"*\")"
      ],
      "text/plain": [
       "<IPython.core.display.Javascript object>"
      ]
     },
     "metadata": {},
     "output_type": "display_data"
    },
    {
     "data": {
      "text/markdown": [
       "<span style=\"color:#33cc33\">Correct</span>"
      ],
      "text/plain": [
       "Correct"
      ]
     },
     "metadata": {},
     "output_type": "display_data"
    }
   ],
   "source": [
    "# Create the list of features below\n",
    "feature_names = ['LotArea','YearBuilt','1stFlrSF','2ndFlrSF','FullBath','BedroomAbvGr','TotRmsAbvGrd']\n",
    "\n",
    "# Select data corresponding to features in feature_names\n",
    "X = home_data[feature_names];\n",
    "\n",
    "# Check your answer\n",
    "step_2.check()"
   ]
  },
  {
   "cell_type": "code",
   "execution_count": 6,
   "metadata": {
    "execution": {
     "iopub.execute_input": "2021-01-25T10:09:44.154446Z",
     "iopub.status.busy": "2021-01-25T10:09:44.153768Z",
     "iopub.status.idle": "2021-01-25T10:09:44.157016Z",
     "shell.execute_reply": "2021-01-25T10:09:44.157536Z"
    },
    "papermill": {
     "duration": 0.02282,
     "end_time": "2021-01-25T10:09:44.157676",
     "exception": false,
     "start_time": "2021-01-25T10:09:44.134856",
     "status": "completed"
    },
    "tags": []
   },
   "outputs": [],
   "source": [
    "# step_2.hint()\n",
    "# step_2.solution()"
   ]
  },
  {
   "cell_type": "markdown",
   "metadata": {
    "papermill": {
     "duration": 0.015797,
     "end_time": "2021-01-25T10:09:44.189954",
     "exception": false,
     "start_time": "2021-01-25T10:09:44.174157",
     "status": "completed"
    },
    "tags": []
   },
   "source": [
    "## Review Data\n",
    "Before building a model, take a quick look at **X** to verify it looks sensible"
   ]
  },
  {
   "cell_type": "code",
   "execution_count": 7,
   "metadata": {
    "execution": {
     "iopub.execute_input": "2021-01-25T10:09:44.230934Z",
     "iopub.status.busy": "2021-01-25T10:09:44.230189Z",
     "iopub.status.idle": "2021-01-25T10:09:44.256519Z",
     "shell.execute_reply": "2021-01-25T10:09:44.257042Z"
    },
    "papermill": {
     "duration": 0.050757,
     "end_time": "2021-01-25T10:09:44.257181",
     "exception": false,
     "start_time": "2021-01-25T10:09:44.206424",
     "status": "completed"
    },
    "tags": []
   },
   "outputs": [
    {
     "name": "stdout",
     "output_type": "stream",
     "text": [
      "             LotArea    YearBuilt     1stFlrSF     2ndFlrSF     FullBath  \\\n",
      "count    1460.000000  1460.000000  1460.000000  1460.000000  1460.000000   \n",
      "mean    10516.828082  1971.267808  1162.626712   346.992466     1.565068   \n",
      "std      9981.264932    30.202904   386.587738   436.528436     0.550916   \n",
      "min      1300.000000  1872.000000   334.000000     0.000000     0.000000   \n",
      "25%      7553.500000  1954.000000   882.000000     0.000000     1.000000   \n",
      "50%      9478.500000  1973.000000  1087.000000     0.000000     2.000000   \n",
      "75%     11601.500000  2000.000000  1391.250000   728.000000     2.000000   \n",
      "max    215245.000000  2010.000000  4692.000000  2065.000000     3.000000   \n",
      "\n",
      "       BedroomAbvGr  TotRmsAbvGrd  \n",
      "count   1460.000000   1460.000000  \n",
      "mean       2.866438      6.517808  \n",
      "std        0.815778      1.625393  \n",
      "min        0.000000      2.000000  \n",
      "25%        2.000000      5.000000  \n",
      "50%        3.000000      6.000000  \n",
      "75%        3.000000      7.000000  \n",
      "max        8.000000     14.000000  \n"
     ]
    }
   ],
   "source": [
    "# Review data\n",
    "# print description or statistics from X\n",
    "print(X.describe())\n",
    "\n",
    "# print the top few lines\n",
    "#print(X.head())"
   ]
  },
  {
   "cell_type": "markdown",
   "metadata": {
    "papermill": {
     "duration": 0.016515,
     "end_time": "2021-01-25T10:09:44.290771",
     "exception": false,
     "start_time": "2021-01-25T10:09:44.274256",
     "status": "completed"
    },
    "tags": []
   },
   "source": [
    "## Step 3: Specify and Fit Model\n",
    "Create a `DecisionTreeRegressor` and save it iowa_model. Ensure you've done the relevant import from sklearn to run this command.\n",
    "\n",
    "Then fit the model you just created using the data in `X` and `y` that you saved above."
   ]
  },
  {
   "cell_type": "code",
   "execution_count": 8,
   "metadata": {
    "execution": {
     "iopub.execute_input": "2021-01-25T10:09:44.335694Z",
     "iopub.status.busy": "2021-01-25T10:09:44.334931Z",
     "iopub.status.idle": "2021-01-25T10:09:44.348092Z",
     "shell.execute_reply": "2021-01-25T10:09:44.348625Z"
    },
    "papermill": {
     "duration": 0.040522,
     "end_time": "2021-01-25T10:09:44.348768",
     "exception": false,
     "start_time": "2021-01-25T10:09:44.308246",
     "status": "completed"
    },
    "tags": []
   },
   "outputs": [
    {
     "data": {
      "application/javascript": [
       "parent.postMessage({\"jupyterEvent\": \"custom.exercise_interaction\", \"data\": {\"outcomeType\": 1, \"valueTowardsCompletion\": 0.25, \"interactionType\": 1, \"questionType\": 2, \"questionId\": \"3_CreateModel\", \"learnToolsVersion\": \"0.3.4\", \"failureMessage\": \"\", \"exceptionClass\": \"\", \"trace\": \"\"}}, \"*\")"
      ],
      "text/plain": [
       "<IPython.core.display.Javascript object>"
      ]
     },
     "metadata": {},
     "output_type": "display_data"
    },
    {
     "data": {
      "text/markdown": [
       "<span style=\"color:#33cc33\">Correct</span>"
      ],
      "text/plain": [
       "Correct"
      ]
     },
     "metadata": {},
     "output_type": "display_data"
    }
   ],
   "source": [
    "# from _ import _\n",
    "#specify the model. \n",
    "#For model reproducibility, set a numeric value for random_state when specifying the model\n",
    "from sklearn.tree import DecisionTreeRegressor\n",
    "iowa_model = DecisionTreeRegressor(random_state=1);\n",
    "\n",
    "# Fit the model\n",
    "iowa_model.fit(X,y)\n",
    "\n",
    "# Check your answer\n",
    "step_3.check()"
   ]
  },
  {
   "cell_type": "code",
   "execution_count": 9,
   "metadata": {
    "execution": {
     "iopub.execute_input": "2021-01-25T10:09:44.388752Z",
     "iopub.status.busy": "2021-01-25T10:09:44.387816Z",
     "iopub.status.idle": "2021-01-25T10:09:44.392244Z",
     "shell.execute_reply": "2021-01-25T10:09:44.391641Z"
    },
    "papermill": {
     "duration": 0.025319,
     "end_time": "2021-01-25T10:09:44.392374",
     "exception": false,
     "start_time": "2021-01-25T10:09:44.367055",
     "status": "completed"
    },
    "tags": []
   },
   "outputs": [],
   "source": [
    "# step_3.hint()\n",
    "# step_3.solution()"
   ]
  },
  {
   "cell_type": "markdown",
   "metadata": {
    "papermill": {
     "duration": 0.017944,
     "end_time": "2021-01-25T10:09:44.428523",
     "exception": false,
     "start_time": "2021-01-25T10:09:44.410579",
     "status": "completed"
    },
    "tags": []
   },
   "source": [
    "## Step 4: Make Predictions\n",
    "Make predictions with the model's `predict` command using `X` as the data. Save the results to a variable called `predictions`."
   ]
  },
  {
   "cell_type": "code",
   "execution_count": 10,
   "metadata": {
    "execution": {
     "iopub.execute_input": "2021-01-25T10:09:44.473390Z",
     "iopub.status.busy": "2021-01-25T10:09:44.472309Z",
     "iopub.status.idle": "2021-01-25T10:09:44.483110Z",
     "shell.execute_reply": "2021-01-25T10:09:44.483811Z"
    },
    "papermill": {
     "duration": 0.037196,
     "end_time": "2021-01-25T10:09:44.483955",
     "exception": false,
     "start_time": "2021-01-25T10:09:44.446759",
     "status": "completed"
    },
    "tags": []
   },
   "outputs": [
    {
     "name": "stdout",
     "output_type": "stream",
     "text": [
      "[208500. 181500. 223500. ... 266500. 142125. 147500.]\n"
     ]
    },
    {
     "data": {
      "application/javascript": [
       "parent.postMessage({\"jupyterEvent\": \"custom.exercise_interaction\", \"data\": {\"outcomeType\": 1, \"valueTowardsCompletion\": 0.25, \"interactionType\": 1, \"questionType\": 2, \"questionId\": \"4_MakePredictions\", \"learnToolsVersion\": \"0.3.4\", \"failureMessage\": \"\", \"exceptionClass\": \"\", \"trace\": \"\"}}, \"*\")"
      ],
      "text/plain": [
       "<IPython.core.display.Javascript object>"
      ]
     },
     "metadata": {},
     "output_type": "display_data"
    },
    {
     "data": {
      "text/markdown": [
       "<span style=\"color:#33cc33\">Correct</span>"
      ],
      "text/plain": [
       "Correct"
      ]
     },
     "metadata": {},
     "output_type": "display_data"
    }
   ],
   "source": [
    "predictions = iowa_model.predict(X)\n",
    "print(predictions)\n",
    "\n",
    "# Check your answer\n",
    "step_4.check()"
   ]
  },
  {
   "cell_type": "code",
   "execution_count": 11,
   "metadata": {
    "execution": {
     "iopub.execute_input": "2021-01-25T10:09:44.527950Z",
     "iopub.status.busy": "2021-01-25T10:09:44.527273Z",
     "iopub.status.idle": "2021-01-25T10:09:44.530668Z",
     "shell.execute_reply": "2021-01-25T10:09:44.530076Z"
    },
    "papermill": {
     "duration": 0.027034,
     "end_time": "2021-01-25T10:09:44.530788",
     "exception": false,
     "start_time": "2021-01-25T10:09:44.503754",
     "status": "completed"
    },
    "tags": []
   },
   "outputs": [],
   "source": [
    "# step_4.hint()\n",
    "# step_4.solution()"
   ]
  },
  {
   "cell_type": "markdown",
   "metadata": {
    "papermill": {
     "duration": 0.019887,
     "end_time": "2021-01-25T10:09:44.570519",
     "exception": false,
     "start_time": "2021-01-25T10:09:44.550632",
     "status": "completed"
    },
    "tags": []
   },
   "source": [
    "## Think About Your Results\n",
    "\n",
    "Use the `head` method to compare the top few predictions to the actual home values (in `y`) for those same homes. Anything surprising?\n"
   ]
  },
  {
   "cell_type": "code",
   "execution_count": 12,
   "metadata": {
    "execution": {
     "iopub.execute_input": "2021-01-25T10:09:44.617472Z",
     "iopub.status.busy": "2021-01-25T10:09:44.616527Z",
     "iopub.status.idle": "2021-01-25T10:09:44.620325Z",
     "shell.execute_reply": "2021-01-25T10:09:44.620845Z"
    },
    "papermill": {
     "duration": 0.030485,
     "end_time": "2021-01-25T10:09:44.620991",
     "exception": false,
     "start_time": "2021-01-25T10:09:44.590506",
     "status": "completed"
    },
    "tags": []
   },
   "outputs": [
    {
     "data": {
      "text/plain": [
       "0    208500\n",
       "1    181500\n",
       "2    223500\n",
       "3    140000\n",
       "4    250000\n",
       "Name: SalePrice, dtype: int64"
      ]
     },
     "execution_count": 12,
     "metadata": {},
     "output_type": "execute_result"
    }
   ],
   "source": [
    "# You can write code in this cell\n",
    "y.head()"
   ]
  },
  {
   "cell_type": "markdown",
   "metadata": {
    "papermill": {
     "duration": 0.020115,
     "end_time": "2021-01-25T10:09:44.661383",
     "exception": false,
     "start_time": "2021-01-25T10:09:44.641268",
     "status": "completed"
    },
    "tags": []
   },
   "source": [
    "It's natural to ask how accurate the model's predictions will be and how you can improve that. That will be you're next step.\n",
    "\n",
    "# Keep Going\n",
    "\n",
    "You are ready for **[Model Validation](https://www.kaggle.com/dansbecker/model-validation).**\n"
   ]
  },
  {
   "cell_type": "markdown",
   "metadata": {
    "papermill": {
     "duration": 0.01997,
     "end_time": "2021-01-25T10:09:44.702753",
     "exception": false,
     "start_time": "2021-01-25T10:09:44.682783",
     "status": "completed"
    },
    "tags": []
   },
   "source": [
    "---\n",
    "\n",
    "\n",
    "\n",
    "\n",
    "*Have questions or comments? Visit the [Learn Discussion forum](https://www.kaggle.com/learn-forum/161285) to chat with other Learners.*"
   ]
  }
 ],
 "metadata": {
  "kernelspec": {
   "display_name": "Python 3",
   "language": "python",
   "name": "python3"
  },
  "language_info": {
   "codemirror_mode": {
    "name": "ipython",
    "version": 3
   },
   "file_extension": ".py",
   "mimetype": "text/x-python",
   "name": "python",
   "nbconvert_exporter": "python",
   "pygments_lexer": "ipython3",
   "version": "3.7.6"
  },
  "papermill": {
   "duration": 7.103224,
   "end_time": "2021-01-25T10:09:44.829725",
   "environment_variables": {},
   "exception": null,
   "input_path": "__notebook__.ipynb",
   "output_path": "__notebook__.ipynb",
   "parameters": {},
   "start_time": "2021-01-25T10:09:37.726501",
   "version": "2.1.0"
  }
 },
 "nbformat": 4,
 "nbformat_minor": 4
}
