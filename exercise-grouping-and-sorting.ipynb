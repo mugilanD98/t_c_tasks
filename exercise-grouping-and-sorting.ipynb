{
 "cells": [
  {
   "cell_type": "markdown",
   "metadata": {
    "papermill": {
     "duration": 0.015627,
     "end_time": "2021-02-01T03:12:12.086932",
     "exception": false,
     "start_time": "2021-02-01T03:12:12.071305",
     "status": "completed"
    },
    "tags": []
   },
   "source": [
    "**This notebook is an exercise in the [Pandas](https://www.kaggle.com/learn/pandas) course.  You can reference the tutorial at [this link](https://www.kaggle.com/residentmario/grouping-and-sorting).**\n",
    "\n",
    "---\n"
   ]
  },
  {
   "cell_type": "markdown",
   "metadata": {
    "papermill": {
     "duration": 0.014481,
     "end_time": "2021-02-01T03:12:12.115672",
     "exception": false,
     "start_time": "2021-02-01T03:12:12.101191",
     "status": "completed"
    },
    "tags": []
   },
   "source": [
    "# Introduction\n",
    "\n",
    "In these exercises we'll apply groupwise analysis to our dataset.\n",
    "\n",
    "Run the code cell below to load the data before running the exercises."
   ]
  },
  {
   "cell_type": "code",
   "execution_count": 1,
   "metadata": {
    "execution": {
     "iopub.execute_input": "2021-02-01T03:12:12.151841Z",
     "iopub.status.busy": "2021-02-01T03:12:12.151118Z",
     "iopub.status.idle": "2021-02-01T03:12:15.928753Z",
     "shell.execute_reply": "2021-02-01T03:12:15.929458Z"
    },
    "papermill": {
     "duration": 3.800158,
     "end_time": "2021-02-01T03:12:15.929986",
     "exception": false,
     "start_time": "2021-02-01T03:12:12.129828",
     "status": "completed"
    },
    "tags": []
   },
   "outputs": [
    {
     "name": "stdout",
     "output_type": "stream",
     "text": [
      "Setup complete.\n"
     ]
    }
   ],
   "source": [
    "import pandas as pd\n",
    "\n",
    "reviews = pd.read_csv(\"../input/wine-reviews/winemag-data-130k-v2.csv\", index_col=0)\n",
    "#pd.set_option(\"display.max_rows\", 5)\n",
    "\n",
    "from learntools.core import binder; binder.bind(globals())\n",
    "from learntools.pandas.grouping_and_sorting import *\n",
    "print(\"Setup complete.\")"
   ]
  },
  {
   "cell_type": "markdown",
   "metadata": {
    "papermill": {
     "duration": 0.014306,
     "end_time": "2021-02-01T03:12:15.960464",
     "exception": false,
     "start_time": "2021-02-01T03:12:15.946158",
     "status": "completed"
    },
    "tags": []
   },
   "source": [
    "# Exercises"
   ]
  },
  {
   "cell_type": "markdown",
   "metadata": {
    "papermill": {
     "duration": 0.014212,
     "end_time": "2021-02-01T03:12:15.989902",
     "exception": false,
     "start_time": "2021-02-01T03:12:15.975690",
     "status": "completed"
    },
    "tags": []
   },
   "source": [
    "## 1.\n",
    "Who are the most common wine reviewers in the dataset? Create a `Series` whose index is the `taster_twitter_handle` category from the dataset, and whose values count how many reviews each person wrote."
   ]
  },
  {
   "cell_type": "code",
   "execution_count": 2,
   "metadata": {
    "execution": {
     "iopub.execute_input": "2021-02-01T03:12:16.042238Z",
     "iopub.status.busy": "2021-02-01T03:12:16.041090Z",
     "iopub.status.idle": "2021-02-01T03:12:16.066767Z",
     "shell.execute_reply": "2021-02-01T03:12:16.066228Z"
    },
    "papermill": {
     "duration": 0.06235,
     "end_time": "2021-02-01T03:12:16.066921",
     "exception": false,
     "start_time": "2021-02-01T03:12:16.004571",
     "status": "completed"
    },
    "tags": []
   },
   "outputs": [
    {
     "data": {
      "application/javascript": [
       "parent.postMessage({\"jupyterEvent\": \"custom.exercise_interaction\", \"data\": {\"outcomeType\": 1, \"valueTowardsCompletion\": 0.16666666666666666, \"interactionType\": 1, \"questionType\": 1, \"questionId\": \"1_ReviewsWritten\", \"learnToolsVersion\": \"0.3.4\", \"failureMessage\": \"\", \"exceptionClass\": \"\", \"trace\": \"\"}}, \"*\")"
      ],
      "text/plain": [
       "<IPython.core.display.Javascript object>"
      ]
     },
     "metadata": {},
     "output_type": "display_data"
    },
    {
     "data": {
      "text/markdown": [
       "<span style=\"color:#33cc33\">Correct:</span> \n",
       "\n",
       "\n",
       "```python\n",
       "reviews_written = reviews.groupby('taster_twitter_handle').size()\n",
       "```\n",
       "or\n",
       "```python\n",
       "reviews_written = reviews.groupby('taster_twitter_handle').taster_twitter_handle.count()\n",
       "```\n"
      ],
      "text/plain": [
       "Correct: \n",
       "\n",
       "\n",
       "```python\n",
       "reviews_written = reviews.groupby('taster_twitter_handle').size()\n",
       "```\n",
       "or\n",
       "```python\n",
       "reviews_written = reviews.groupby('taster_twitter_handle').taster_twitter_handle.count()\n",
       "```"
      ]
     },
     "metadata": {},
     "output_type": "display_data"
    }
   ],
   "source": [
    "# Your code here\n",
    "reviews_written = reviews.groupby('taster_twitter_handle').taster_twitter_handle.count()\n",
    "\n",
    "# Check your answer\n",
    "q1.check()"
   ]
  },
  {
   "cell_type": "code",
   "execution_count": 3,
   "metadata": {
    "execution": {
     "iopub.execute_input": "2021-02-01T03:12:16.104281Z",
     "iopub.status.busy": "2021-02-01T03:12:16.103521Z",
     "iopub.status.idle": "2021-02-01T03:12:16.107663Z",
     "shell.execute_reply": "2021-02-01T03:12:16.106958Z"
    },
    "papermill": {
     "duration": 0.025016,
     "end_time": "2021-02-01T03:12:16.107816",
     "exception": false,
     "start_time": "2021-02-01T03:12:16.082800",
     "status": "completed"
    },
    "tags": []
   },
   "outputs": [],
   "source": [
    "#q1.hint()\n",
    "#q1.solution()"
   ]
  },
  {
   "cell_type": "markdown",
   "metadata": {
    "papermill": {
     "duration": 0.015794,
     "end_time": "2021-02-01T03:12:16.139943",
     "exception": false,
     "start_time": "2021-02-01T03:12:16.124149",
     "status": "completed"
    },
    "tags": []
   },
   "source": [
    "## 2.\n",
    "What is the best wine I can buy for a given amount of money? Create a `Series` whose index is wine prices and whose values is the maximum number of points a wine costing that much was given in a review. Sort the values by price, ascending (so that `4.0` dollars is at the top and `3300.0` dollars is at the bottom)."
   ]
  },
  {
   "cell_type": "code",
   "execution_count": 4,
   "metadata": {
    "execution": {
     "iopub.execute_input": "2021-02-01T03:12:16.180543Z",
     "iopub.status.busy": "2021-02-01T03:12:16.179779Z",
     "iopub.status.idle": "2021-02-01T03:12:16.191984Z",
     "shell.execute_reply": "2021-02-01T03:12:16.191318Z"
    },
    "papermill": {
     "duration": 0.034718,
     "end_time": "2021-02-01T03:12:16.192132",
     "exception": false,
     "start_time": "2021-02-01T03:12:16.157414",
     "status": "completed"
    },
    "tags": []
   },
   "outputs": [
    {
     "data": {
      "application/javascript": [
       "parent.postMessage({\"jupyterEvent\": \"custom.exercise_interaction\", \"data\": {\"outcomeType\": 1, \"valueTowardsCompletion\": 0.16666666666666666, \"interactionType\": 1, \"questionType\": 1, \"questionId\": \"2_BestRatingPerPrice\", \"learnToolsVersion\": \"0.3.4\", \"failureMessage\": \"\", \"exceptionClass\": \"\", \"trace\": \"\"}}, \"*\")"
      ],
      "text/plain": [
       "<IPython.core.display.Javascript object>"
      ]
     },
     "metadata": {},
     "output_type": "display_data"
    },
    {
     "data": {
      "text/markdown": [
       "<span style=\"color:#33cc33\">Correct</span>"
      ],
      "text/plain": [
       "Correct"
      ]
     },
     "metadata": {},
     "output_type": "display_data"
    }
   ],
   "source": [
    "best_rating_per_price = reviews.groupby('price')['points'].max().sort_index() \n",
    "\n",
    "# Check your answer\n",
    "q2.check()"
   ]
  },
  {
   "cell_type": "code",
   "execution_count": 5,
   "metadata": {
    "execution": {
     "iopub.execute_input": "2021-02-01T03:12:16.232018Z",
     "iopub.status.busy": "2021-02-01T03:12:16.231311Z",
     "iopub.status.idle": "2021-02-01T03:12:16.234879Z",
     "shell.execute_reply": "2021-02-01T03:12:16.234297Z"
    },
    "papermill": {
     "duration": 0.025692,
     "end_time": "2021-02-01T03:12:16.235037",
     "exception": false,
     "start_time": "2021-02-01T03:12:16.209345",
     "status": "completed"
    },
    "tags": []
   },
   "outputs": [],
   "source": [
    "#q2.hint()\n",
    "#q2.solution()"
   ]
  },
  {
   "cell_type": "markdown",
   "metadata": {
    "papermill": {
     "duration": 0.017057,
     "end_time": "2021-02-01T03:12:16.270065",
     "exception": false,
     "start_time": "2021-02-01T03:12:16.253008",
     "status": "completed"
    },
    "tags": []
   },
   "source": [
    "## 3.\n",
    "What are the minimum and maximum prices for each `variety` of wine? Create a `DataFrame` whose index is the `variety` category from the dataset and whose values are the `min` and `max` values thereof."
   ]
  },
  {
   "cell_type": "code",
   "execution_count": 6,
   "metadata": {
    "execution": {
     "iopub.execute_input": "2021-02-01T03:12:16.311167Z",
     "iopub.status.busy": "2021-02-01T03:12:16.310431Z",
     "iopub.status.idle": "2021-02-01T03:12:16.350716Z",
     "shell.execute_reply": "2021-02-01T03:12:16.350156Z"
    },
    "papermill": {
     "duration": 0.063567,
     "end_time": "2021-02-01T03:12:16.350874",
     "exception": false,
     "start_time": "2021-02-01T03:12:16.287307",
     "status": "completed"
    },
    "tags": []
   },
   "outputs": [
    {
     "data": {
      "application/javascript": [
       "parent.postMessage({\"jupyterEvent\": \"custom.exercise_interaction\", \"data\": {\"outcomeType\": 1, \"valueTowardsCompletion\": 0.16666666666666666, \"interactionType\": 1, \"questionType\": 1, \"questionId\": \"3_PriceExtremes\", \"learnToolsVersion\": \"0.3.4\", \"failureMessage\": \"\", \"exceptionClass\": \"\", \"trace\": \"\"}}, \"*\")"
      ],
      "text/plain": [
       "<IPython.core.display.Javascript object>"
      ]
     },
     "metadata": {},
     "output_type": "display_data"
    },
    {
     "data": {
      "text/markdown": [
       "<span style=\"color:#33cc33\">Correct</span>"
      ],
      "text/plain": [
       "Correct"
      ]
     },
     "metadata": {},
     "output_type": "display_data"
    }
   ],
   "source": [
    "price_extremes = reviews.groupby('variety').price.agg([min, max]) \n",
    "\n",
    "# Check your answer\n",
    "q3.check()"
   ]
  },
  {
   "cell_type": "code",
   "execution_count": 7,
   "metadata": {
    "execution": {
     "iopub.execute_input": "2021-02-01T03:12:16.393186Z",
     "iopub.status.busy": "2021-02-01T03:12:16.392214Z",
     "iopub.status.idle": "2021-02-01T03:12:16.394581Z",
     "shell.execute_reply": "2021-02-01T03:12:16.395185Z"
    },
    "papermill": {
     "duration": 0.026088,
     "end_time": "2021-02-01T03:12:16.395368",
     "exception": false,
     "start_time": "2021-02-01T03:12:16.369280",
     "status": "completed"
    },
    "tags": []
   },
   "outputs": [],
   "source": [
    "#q3.hint()\n",
    "#q3.solution()"
   ]
  },
  {
   "cell_type": "markdown",
   "metadata": {
    "papermill": {
     "duration": 0.017997,
     "end_time": "2021-02-01T03:12:16.432171",
     "exception": false,
     "start_time": "2021-02-01T03:12:16.414174",
     "status": "completed"
    },
    "tags": []
   },
   "source": [
    "## 4.\n",
    "What are the most expensive wine varieties? Create a variable `sorted_varieties` containing a copy of the dataframe from the previous question where varieties are sorted in descending order based on minimum price, then on maximum price (to break ties)."
   ]
  },
  {
   "cell_type": "code",
   "execution_count": 8,
   "metadata": {
    "execution": {
     "iopub.execute_input": "2021-02-01T03:12:16.476876Z",
     "iopub.status.busy": "2021-02-01T03:12:16.476162Z",
     "iopub.status.idle": "2021-02-01T03:12:16.485047Z",
     "shell.execute_reply": "2021-02-01T03:12:16.484265Z"
    },
    "papermill": {
     "duration": 0.034029,
     "end_time": "2021-02-01T03:12:16.485211",
     "exception": false,
     "start_time": "2021-02-01T03:12:16.451182",
     "status": "completed"
    },
    "tags": []
   },
   "outputs": [
    {
     "data": {
      "application/javascript": [
       "parent.postMessage({\"jupyterEvent\": \"custom.exercise_interaction\", \"data\": {\"outcomeType\": 1, \"valueTowardsCompletion\": 0.16666666666666666, \"interactionType\": 1, \"questionType\": 1, \"questionId\": \"4_SortedVarieties\", \"learnToolsVersion\": \"0.3.4\", \"failureMessage\": \"\", \"exceptionClass\": \"\", \"trace\": \"\"}}, \"*\")"
      ],
      "text/plain": [
       "<IPython.core.display.Javascript object>"
      ]
     },
     "metadata": {},
     "output_type": "display_data"
    },
    {
     "data": {
      "text/markdown": [
       "<span style=\"color:#33cc33\">Correct</span>"
      ],
      "text/plain": [
       "Correct"
      ]
     },
     "metadata": {},
     "output_type": "display_data"
    }
   ],
   "source": [
    "sorted_varieties = price_extremes.sort_values(by=['min', 'max'], ascending=False)\n",
    "\n",
    "# Check your answer\n",
    "q4.check()"
   ]
  },
  {
   "cell_type": "code",
   "execution_count": 9,
   "metadata": {
    "execution": {
     "iopub.execute_input": "2021-02-01T03:12:16.530572Z",
     "iopub.status.busy": "2021-02-01T03:12:16.529805Z",
     "iopub.status.idle": "2021-02-01T03:12:16.533471Z",
     "shell.execute_reply": "2021-02-01T03:12:16.532802Z"
    },
    "papermill": {
     "duration": 0.028339,
     "end_time": "2021-02-01T03:12:16.533632",
     "exception": false,
     "start_time": "2021-02-01T03:12:16.505293",
     "status": "completed"
    },
    "tags": []
   },
   "outputs": [],
   "source": [
    "#q4.hint()\n",
    "#q4.solution()"
   ]
  },
  {
   "cell_type": "markdown",
   "metadata": {
    "papermill": {
     "duration": 0.019592,
     "end_time": "2021-02-01T03:12:16.572865",
     "exception": false,
     "start_time": "2021-02-01T03:12:16.553273",
     "status": "completed"
    },
    "tags": []
   },
   "source": [
    "## 5.\n",
    "Create a `Series` whose index is reviewers and whose values is the average review score given out by that reviewer. Hint: you will need the `taster_name` and `points` columns."
   ]
  },
  {
   "cell_type": "code",
   "execution_count": 10,
   "metadata": {
    "execution": {
     "iopub.execute_input": "2021-02-01T03:12:16.640546Z",
     "iopub.status.busy": "2021-02-01T03:12:16.639796Z",
     "iopub.status.idle": "2021-02-01T03:12:16.651252Z",
     "shell.execute_reply": "2021-02-01T03:12:16.650705Z"
    },
    "papermill": {
     "duration": 0.058738,
     "end_time": "2021-02-01T03:12:16.651435",
     "exception": false,
     "start_time": "2021-02-01T03:12:16.592697",
     "status": "completed"
    },
    "tags": []
   },
   "outputs": [
    {
     "data": {
      "application/javascript": [
       "parent.postMessage({\"jupyterEvent\": \"custom.exercise_interaction\", \"data\": {\"outcomeType\": 1, \"valueTowardsCompletion\": 0.16666666666666666, \"interactionType\": 1, \"questionType\": 1, \"questionId\": \"5_ReviewerMeanRatings\", \"learnToolsVersion\": \"0.3.4\", \"failureMessage\": \"\", \"exceptionClass\": \"\", \"trace\": \"\"}}, \"*\")"
      ],
      "text/plain": [
       "<IPython.core.display.Javascript object>"
      ]
     },
     "metadata": {},
     "output_type": "display_data"
    },
    {
     "data": {
      "text/markdown": [
       "<span style=\"color:#33cc33\">Correct</span>"
      ],
      "text/plain": [
       "Correct"
      ]
     },
     "metadata": {},
     "output_type": "display_data"
    }
   ],
   "source": [
    "reviewer_mean_ratings = reviews.groupby('taster_name').points.mean()\n",
    "\n",
    "# Check your answer\n",
    "q5.check()"
   ]
  },
  {
   "cell_type": "code",
   "execution_count": 11,
   "metadata": {
    "execution": {
     "iopub.execute_input": "2021-02-01T03:12:16.698259Z",
     "iopub.status.busy": "2021-02-01T03:12:16.697555Z",
     "iopub.status.idle": "2021-02-01T03:12:16.701177Z",
     "shell.execute_reply": "2021-02-01T03:12:16.700652Z"
    },
    "papermill": {
     "duration": 0.029151,
     "end_time": "2021-02-01T03:12:16.701337",
     "exception": false,
     "start_time": "2021-02-01T03:12:16.672186",
     "status": "completed"
    },
    "tags": []
   },
   "outputs": [],
   "source": [
    "#q5.hint()\n",
    "#q5.solution()"
   ]
  },
  {
   "cell_type": "markdown",
   "metadata": {
    "papermill": {
     "duration": 0.021654,
     "end_time": "2021-02-01T03:12:16.743891",
     "exception": false,
     "start_time": "2021-02-01T03:12:16.722237",
     "status": "completed"
    },
    "tags": []
   },
   "source": [
    "Are there significant differences in the average scores assigned by the various reviewers? Run the cell below to use the `describe()` method to see a summary of the range of values."
   ]
  },
  {
   "cell_type": "code",
   "execution_count": 12,
   "metadata": {
    "execution": {
     "iopub.execute_input": "2021-02-01T03:12:16.798118Z",
     "iopub.status.busy": "2021-02-01T03:12:16.797388Z",
     "iopub.status.idle": "2021-02-01T03:12:16.800791Z",
     "shell.execute_reply": "2021-02-01T03:12:16.801279Z"
    },
    "papermill": {
     "duration": 0.036761,
     "end_time": "2021-02-01T03:12:16.801476",
     "exception": false,
     "start_time": "2021-02-01T03:12:16.764715",
     "status": "completed"
    },
    "tags": []
   },
   "outputs": [
    {
     "data": {
      "text/plain": [
       "count    19.000000\n",
       "mean     88.233026\n",
       "std       1.243610\n",
       "min      85.855422\n",
       "25%      87.323501\n",
       "50%      88.536235\n",
       "75%      88.975256\n",
       "max      90.562551\n",
       "Name: points, dtype: float64"
      ]
     },
     "execution_count": 12,
     "metadata": {},
     "output_type": "execute_result"
    }
   ],
   "source": [
    "reviewer_mean_ratings.describe()"
   ]
  },
  {
   "cell_type": "markdown",
   "metadata": {
    "papermill": {
     "duration": 0.022182,
     "end_time": "2021-02-01T03:12:16.845278",
     "exception": false,
     "start_time": "2021-02-01T03:12:16.823096",
     "status": "completed"
    },
    "tags": []
   },
   "source": [
    "## 6.\n",
    "What combination of countries and varieties are most common? Create a `Series` whose index is a `MultiIndex`of `{country, variety}` pairs. For example, a pinot noir produced in the US should map to `{\"US\", \"Pinot Noir\"}`. Sort the values in the `Series` in descending order based on wine count."
   ]
  },
  {
   "cell_type": "code",
   "execution_count": 13,
   "metadata": {
    "execution": {
     "iopub.execute_input": "2021-02-01T03:12:16.892221Z",
     "iopub.status.busy": "2021-02-01T03:12:16.891383Z",
     "iopub.status.idle": "2021-02-01T03:12:16.943585Z",
     "shell.execute_reply": "2021-02-01T03:12:16.944158Z"
    },
    "papermill": {
     "duration": 0.0776,
     "end_time": "2021-02-01T03:12:16.944346",
     "exception": false,
     "start_time": "2021-02-01T03:12:16.866746",
     "status": "completed"
    },
    "tags": []
   },
   "outputs": [
    {
     "data": {
      "application/javascript": [
       "parent.postMessage({\"jupyterEvent\": \"custom.exercise_interaction\", \"data\": {\"outcomeType\": 1, \"valueTowardsCompletion\": 0.16666666666666666, \"interactionType\": 1, \"questionType\": 1, \"questionId\": \"6_GroupbyCountryVariety\", \"learnToolsVersion\": \"0.3.4\", \"failureMessage\": \"\", \"exceptionClass\": \"\", \"trace\": \"\"}}, \"*\")"
      ],
      "text/plain": [
       "<IPython.core.display.Javascript object>"
      ]
     },
     "metadata": {},
     "output_type": "display_data"
    },
    {
     "data": {
      "text/markdown": [
       "<span style=\"color:#33cc33\">Correct</span>"
      ],
      "text/plain": [
       "Correct"
      ]
     },
     "metadata": {},
     "output_type": "display_data"
    }
   ],
   "source": [
    "country_variety_counts = reviews.groupby(['country', 'variety']).size().sort_values(ascending=False);\n",
    "\n",
    "# Check your answer\n",
    "q6.check()"
   ]
  },
  {
   "cell_type": "code",
   "execution_count": 14,
   "metadata": {
    "execution": {
     "iopub.execute_input": "2021-02-01T03:12:16.993452Z",
     "iopub.status.busy": "2021-02-01T03:12:16.992734Z",
     "iopub.status.idle": "2021-02-01T03:12:16.997068Z",
     "shell.execute_reply": "2021-02-01T03:12:16.997713Z"
    },
    "papermill": {
     "duration": 0.030652,
     "end_time": "2021-02-01T03:12:16.997934",
     "exception": false,
     "start_time": "2021-02-01T03:12:16.967282",
     "status": "completed"
    },
    "tags": []
   },
   "outputs": [],
   "source": [
    "#q6.hint()\n",
    "#q6.solution()"
   ]
  },
  {
   "cell_type": "markdown",
   "metadata": {
    "papermill": {
     "duration": 0.022259,
     "end_time": "2021-02-01T03:12:17.043166",
     "exception": false,
     "start_time": "2021-02-01T03:12:17.020907",
     "status": "completed"
    },
    "tags": []
   },
   "source": [
    "# Keep going\n",
    "\n",
    "Move on to the [**data types and missing data**](https://www.kaggle.com/residentmario/data-types-and-missing-values)."
   ]
  },
  {
   "cell_type": "markdown",
   "metadata": {
    "papermill": {
     "duration": 0.022568,
     "end_time": "2021-02-01T03:12:17.088727",
     "exception": false,
     "start_time": "2021-02-01T03:12:17.066159",
     "status": "completed"
    },
    "tags": []
   },
   "source": [
    "---\n",
    "\n",
    "\n",
    "\n",
    "\n",
    "*Have questions or comments? Visit the [Learn Discussion forum](https://www.kaggle.com/learn-forum/161299) to chat with other Learners.*"
   ]
  }
 ],
 "metadata": {
  "kernelspec": {
   "display_name": "Python 3",
   "language": "python",
   "name": "python3"
  },
  "language_info": {
   "codemirror_mode": {
    "name": "ipython",
    "version": 3
   },
   "file_extension": ".py",
   "mimetype": "text/x-python",
   "name": "python",
   "nbconvert_exporter": "python",
   "pygments_lexer": "ipython3",
   "version": "3.7.9"
  },
  "papermill": {
   "default_parameters": {},
   "duration": 12.724477,
   "end_time": "2021-02-01T03:12:17.922467",
   "environment_variables": {},
   "exception": null,
   "input_path": "__notebook__.ipynb",
   "output_path": "__notebook__.ipynb",
   "parameters": {},
   "start_time": "2021-02-01T03:12:05.197990",
   "version": "2.2.2"
  }
 },
 "nbformat": 4,
 "nbformat_minor": 4
}
